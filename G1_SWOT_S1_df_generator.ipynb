{
 "cells": [
  {
   "cell_type": "markdown",
   "id": "e63a667f-2bb0-4ef1-89bb-9f410a06ecbe",
   "metadata": {},
   "source": [
    "# ${\\textbf{G1: Generating a dataframe of all $H_s$ SWOT - SARWAVE colocated points}}$  \n",
    "\n",
    "We generate a dataframe (and save it to save time) with the following characteristics:\n",
    "\n",
    "df_hs = pd.DataFrame({\"hs_swot_on_iw\": [], # SWOT interpolated hs on sarwave's grid  \n",
    "                      \"hsml_iw\": [], # $H_s$ most likely   \n",
    "                      \"conf_iw\": [], # confidence index (SARWAVE)   \n",
    "                      \"swot_file\": [], # swot file path  \n",
    "                      \"iw_file\": [], # iw file path  \n",
    "                      \"lon\":[], longitude of SARWAVE's current grid cell  \n",
    "                      \"lat\":[], latitude of SARWAVE's current grid cell    \n",
    "                      \"lon_map_min\": [], # Corners of the current co-located case (englobes the whole iw-swot overlapping area)\n",
    "                      \"lon_map_max\": [],  \n",
    "                      \"lat_map_min\": [],  \n",
    "                      \"lat_map_max\": []})  \n"
   ]
  },
  {
   "cell_type": "code",
   "execution_count": 4,
   "id": "cd56f7f9-9fca-4ac7-af55-2e4181f7852a",
   "metadata": {},
   "outputs": [],
   "source": [
    "import matplotlib.pyplot as plt\n",
    "import numpy as np\n",
    "import SWOT_tools as st\n",
    "import xarray as xr\n",
    "import shapefile as shp \n",
    "import os\n",
    "from datetime import datetime\n",
    "from tqdm import tqdm\n",
    "from scipy.interpolate import griddata\n",
    "from scipy.ndimage import binary_dilation\n",
    "from time import time\n",
    "\n",
    "import pandas as pd\n",
    "#plt.rc('font',**{'family':'sans-serif','sans-serif':['Times New Roman']})"
   ]
  },
  {
   "cell_type": "code",
   "execution_count": 5,
   "id": "14cbef97-0295-400f-81d4-1f1d75539a47",
   "metadata": {},
   "outputs": [],
   "source": [
    "import matplotlib.font_manager as fm\n",
    "# Regular and bold font paths\n",
    "font_regular_path = \"fonts/times/times.ttf\"\n",
    "font_bold_path = \"fonts/times/timesbd.ttf\"  # Bold\n",
    "# Register both fonts\n",
    "fm.fontManager.addfont(font_regular_path)\n",
    "fm.fontManager.addfont(font_bold_path)\n",
    "# Create font properties\n",
    "font_regular = fm.FontProperties(fname=font_regular_path)\n",
    "font_bold = fm.FontProperties(fname=font_bold_path)\n",
    "# Set default font to regular Times New Roman\n",
    "plt.rcParams['font.family'] = font_regular.get_name()"
   ]
  },
  {
   "cell_type": "code",
   "execution_count": 6,
   "id": "6ad681bc-8e6a-4432-8c33-479ddc22cae4",
   "metadata": {},
   "outputs": [
    {
     "data": {
      "text/html": [
       "<div>\n",
       "<style scoped>\n",
       "    .dataframe tbody tr th:only-of-type {\n",
       "        vertical-align: middle;\n",
       "    }\n",
       "\n",
       "    .dataframe tbody tr th {\n",
       "        vertical-align: top;\n",
       "    }\n",
       "\n",
       "    .dataframe thead th {\n",
       "        text-align: right;\n",
       "    }\n",
       "</style>\n",
       "<table border=\"1\" class=\"dataframe\">\n",
       "  <thead>\n",
       "    <tr style=\"text-align: right;\">\n",
       "      <th></th>\n",
       "      <th>Unnamed: 0</th>\n",
       "      <th>year</th>\n",
       "      <th>day_of_year</th>\n",
       "      <th>swot_file</th>\n",
       "      <th>iw_file</th>\n",
       "    </tr>\n",
       "  </thead>\n",
       "  <tbody>\n",
       "    <tr>\n",
       "      <th>0</th>\n",
       "      <td>0</td>\n",
       "      <td>2023.0</td>\n",
       "      <td>263.0</td>\n",
       "      <td>/home/datawork-WW3/PROJECT/SWOT/WindWave/SWOT_...</td>\n",
       "      <td>NaN</td>\n",
       "    </tr>\n",
       "    <tr>\n",
       "      <th>1</th>\n",
       "      <td>1</td>\n",
       "      <td>2023.0</td>\n",
       "      <td>263.0</td>\n",
       "      <td>/home/datawork-WW3/PROJECT/SWOT/WindWave/SWOT_...</td>\n",
       "      <td>NaN</td>\n",
       "    </tr>\n",
       "    <tr>\n",
       "      <th>2</th>\n",
       "      <td>2</td>\n",
       "      <td>2023.0</td>\n",
       "      <td>263.0</td>\n",
       "      <td>/home/datawork-WW3/PROJECT/SWOT/WindWave/SWOT_...</td>\n",
       "      <td>NaN</td>\n",
       "    </tr>\n",
       "    <tr>\n",
       "      <th>3</th>\n",
       "      <td>0</td>\n",
       "      <td>2023.0</td>\n",
       "      <td>263.0</td>\n",
       "      <td>/home/datawork-WW3/PROJECT/SWOT/WindWave/SWOT_...</td>\n",
       "      <td>NaN</td>\n",
       "    </tr>\n",
       "    <tr>\n",
       "      <th>4</th>\n",
       "      <td>1</td>\n",
       "      <td>2023.0</td>\n",
       "      <td>263.0</td>\n",
       "      <td>/home/datawork-WW3/PROJECT/SWOT/WindWave/SWOT_...</td>\n",
       "      <td>NaN</td>\n",
       "    </tr>\n",
       "    <tr>\n",
       "      <th>...</th>\n",
       "      <td>...</td>\n",
       "      <td>...</td>\n",
       "      <td>...</td>\n",
       "      <td>...</td>\n",
       "      <td>...</td>\n",
       "    </tr>\n",
       "    <tr>\n",
       "      <th>10813</th>\n",
       "      <td>1</td>\n",
       "      <td>2025.0</td>\n",
       "      <td>1.0</td>\n",
       "      <td>/home/datawork-WW3/PROJECT/SWOT/WindWave/SWOT_...</td>\n",
       "      <td>NaN</td>\n",
       "    </tr>\n",
       "    <tr>\n",
       "      <th>10814</th>\n",
       "      <td>2</td>\n",
       "      <td>2025.0</td>\n",
       "      <td>1.0</td>\n",
       "      <td>/home/datawork-WW3/PROJECT/SWOT/WindWave/SWOT_...</td>\n",
       "      <td>NaN</td>\n",
       "    </tr>\n",
       "    <tr>\n",
       "      <th>10815</th>\n",
       "      <td>0</td>\n",
       "      <td>2025.0</td>\n",
       "      <td>1.0</td>\n",
       "      <td>/home/datawork-WW3/PROJECT/SWOT/WindWave/SWOT_...</td>\n",
       "      <td>NaN</td>\n",
       "    </tr>\n",
       "    <tr>\n",
       "      <th>10816</th>\n",
       "      <td>1</td>\n",
       "      <td>2025.0</td>\n",
       "      <td>1.0</td>\n",
       "      <td>/home/datawork-WW3/PROJECT/SWOT/WindWave/SWOT_...</td>\n",
       "      <td>NaN</td>\n",
       "    </tr>\n",
       "    <tr>\n",
       "      <th>10817</th>\n",
       "      <td>2</td>\n",
       "      <td>2025.0</td>\n",
       "      <td>1.0</td>\n",
       "      <td>/home/datawork-WW3/PROJECT/SWOT/WindWave/SWOT_...</td>\n",
       "      <td>NaN</td>\n",
       "    </tr>\n",
       "  </tbody>\n",
       "</table>\n",
       "<p>10818 rows × 5 columns</p>\n",
       "</div>"
      ],
      "text/plain": [
       "       Unnamed: 0    year  day_of_year  \\\n",
       "0               0  2023.0        263.0   \n",
       "1               1  2023.0        263.0   \n",
       "2               2  2023.0        263.0   \n",
       "3               0  2023.0        263.0   \n",
       "4               1  2023.0        263.0   \n",
       "...           ...     ...          ...   \n",
       "10813           1  2025.0          1.0   \n",
       "10814           2  2025.0          1.0   \n",
       "10815           0  2025.0          1.0   \n",
       "10816           1  2025.0          1.0   \n",
       "10817           2  2025.0          1.0   \n",
       "\n",
       "                                               swot_file iw_file  \n",
       "0      /home/datawork-WW3/PROJECT/SWOT/WindWave/SWOT_...     NaN  \n",
       "1      /home/datawork-WW3/PROJECT/SWOT/WindWave/SWOT_...     NaN  \n",
       "2      /home/datawork-WW3/PROJECT/SWOT/WindWave/SWOT_...     NaN  \n",
       "3      /home/datawork-WW3/PROJECT/SWOT/WindWave/SWOT_...     NaN  \n",
       "4      /home/datawork-WW3/PROJECT/SWOT/WindWave/SWOT_...     NaN  \n",
       "...                                                  ...     ...  \n",
       "10813  /home/datawork-WW3/PROJECT/SWOT/WindWave/SWOT_...     NaN  \n",
       "10814  /home/datawork-WW3/PROJECT/SWOT/WindWave/SWOT_...     NaN  \n",
       "10815  /home/datawork-WW3/PROJECT/SWOT/WindWave/SWOT_...     NaN  \n",
       "10816  /home/datawork-WW3/PROJECT/SWOT/WindWave/SWOT_...     NaN  \n",
       "10817  /home/datawork-WW3/PROJECT/SWOT/WindWave/SWOT_...     NaN  \n",
       "\n",
       "[10818 rows x 5 columns]"
      ]
     },
     "execution_count": 6,
     "metadata": {},
     "output_type": "execute_result"
    }
   ],
   "source": [
    "df_coloc = pd.read_csv(\"G_df/df_colocs_swot_S1.csv\")\n",
    "df_coloc"
   ]
  },
  {
   "cell_type": "code",
   "execution_count": 7,
   "id": "227f9464-1494-48e0-a890-7ea9265d1951",
   "metadata": {},
   "outputs": [
    {
     "data": {
      "text/html": [
       "<div>\n",
       "<style scoped>\n",
       "    .dataframe tbody tr th:only-of-type {\n",
       "        vertical-align: middle;\n",
       "    }\n",
       "\n",
       "    .dataframe tbody tr th {\n",
       "        vertical-align: top;\n",
       "    }\n",
       "\n",
       "    .dataframe thead th {\n",
       "        text-align: right;\n",
       "    }\n",
       "</style>\n",
       "<table border=\"1\" class=\"dataframe\">\n",
       "  <thead>\n",
       "    <tr style=\"text-align: right;\">\n",
       "      <th></th>\n",
       "      <th>Unnamed: 0</th>\n",
       "      <th>year</th>\n",
       "      <th>day_of_year</th>\n",
       "      <th>swot_file</th>\n",
       "      <th>iw_file</th>\n",
       "    </tr>\n",
       "  </thead>\n",
       "  <tbody>\n",
       "    <tr>\n",
       "      <th>9</th>\n",
       "      <td>0</td>\n",
       "      <td>2023.0</td>\n",
       "      <td>263.0</td>\n",
       "      <td>/home/datawork-WW3/PROJECT/SWOT/WindWave/SWOT_...</td>\n",
       "      <td>/home/datawork-cersat-public/cache/project/sar...</td>\n",
       "    </tr>\n",
       "    <tr>\n",
       "      <th>10</th>\n",
       "      <td>1</td>\n",
       "      <td>2023.0</td>\n",
       "      <td>263.0</td>\n",
       "      <td>/home/datawork-WW3/PROJECT/SWOT/WindWave/SWOT_...</td>\n",
       "      <td>/home/datawork-cersat-public/cache/project/sar...</td>\n",
       "    </tr>\n",
       "    <tr>\n",
       "      <th>11</th>\n",
       "      <td>2</td>\n",
       "      <td>2023.0</td>\n",
       "      <td>263.0</td>\n",
       "      <td>/home/datawork-WW3/PROJECT/SWOT/WindWave/SWOT_...</td>\n",
       "      <td>/home/datawork-cersat-public/cache/project/sar...</td>\n",
       "    </tr>\n",
       "    <tr>\n",
       "      <th>18</th>\n",
       "      <td>0</td>\n",
       "      <td>2023.0</td>\n",
       "      <td>263.0</td>\n",
       "      <td>/home/datawork-WW3/PROJECT/SWOT/WindWave/SWOT_...</td>\n",
       "      <td>/home/datawork-cersat-public/cache/project/sar...</td>\n",
       "    </tr>\n",
       "    <tr>\n",
       "      <th>19</th>\n",
       "      <td>1</td>\n",
       "      <td>2023.0</td>\n",
       "      <td>263.0</td>\n",
       "      <td>/home/datawork-WW3/PROJECT/SWOT/WindWave/SWOT_...</td>\n",
       "      <td>/home/datawork-cersat-public/cache/project/sar...</td>\n",
       "    </tr>\n",
       "    <tr>\n",
       "      <th>...</th>\n",
       "      <td>...</td>\n",
       "      <td>...</td>\n",
       "      <td>...</td>\n",
       "      <td>...</td>\n",
       "      <td>...</td>\n",
       "    </tr>\n",
       "    <tr>\n",
       "      <th>10762</th>\n",
       "      <td>1</td>\n",
       "      <td>2025.0</td>\n",
       "      <td>1.0</td>\n",
       "      <td>/home/datawork-WW3/PROJECT/SWOT/WindWave/SWOT_...</td>\n",
       "      <td>/home/datawork-cersat-public/cache/project/sar...</td>\n",
       "    </tr>\n",
       "    <tr>\n",
       "      <th>10763</th>\n",
       "      <td>2</td>\n",
       "      <td>2025.0</td>\n",
       "      <td>1.0</td>\n",
       "      <td>/home/datawork-WW3/PROJECT/SWOT/WindWave/SWOT_...</td>\n",
       "      <td>/home/datawork-cersat-public/cache/project/sar...</td>\n",
       "    </tr>\n",
       "    <tr>\n",
       "      <th>10764</th>\n",
       "      <td>0</td>\n",
       "      <td>2025.0</td>\n",
       "      <td>1.0</td>\n",
       "      <td>/home/datawork-WW3/PROJECT/SWOT/WindWave/SWOT_...</td>\n",
       "      <td>/home/datawork-cersat-public/cache/project/sar...</td>\n",
       "    </tr>\n",
       "    <tr>\n",
       "      <th>10765</th>\n",
       "      <td>1</td>\n",
       "      <td>2025.0</td>\n",
       "      <td>1.0</td>\n",
       "      <td>/home/datawork-WW3/PROJECT/SWOT/WindWave/SWOT_...</td>\n",
       "      <td>/home/datawork-cersat-public/cache/project/sar...</td>\n",
       "    </tr>\n",
       "    <tr>\n",
       "      <th>10766</th>\n",
       "      <td>2</td>\n",
       "      <td>2025.0</td>\n",
       "      <td>1.0</td>\n",
       "      <td>/home/datawork-WW3/PROJECT/SWOT/WindWave/SWOT_...</td>\n",
       "      <td>/home/datawork-cersat-public/cache/project/sar...</td>\n",
       "    </tr>\n",
       "  </tbody>\n",
       "</table>\n",
       "<p>2634 rows × 5 columns</p>\n",
       "</div>"
      ],
      "text/plain": [
       "       Unnamed: 0    year  day_of_year  \\\n",
       "9               0  2023.0        263.0   \n",
       "10              1  2023.0        263.0   \n",
       "11              2  2023.0        263.0   \n",
       "18              0  2023.0        263.0   \n",
       "19              1  2023.0        263.0   \n",
       "...           ...     ...          ...   \n",
       "10762           1  2025.0          1.0   \n",
       "10763           2  2025.0          1.0   \n",
       "10764           0  2025.0          1.0   \n",
       "10765           1  2025.0          1.0   \n",
       "10766           2  2025.0          1.0   \n",
       "\n",
       "                                               swot_file  \\\n",
       "9      /home/datawork-WW3/PROJECT/SWOT/WindWave/SWOT_...   \n",
       "10     /home/datawork-WW3/PROJECT/SWOT/WindWave/SWOT_...   \n",
       "11     /home/datawork-WW3/PROJECT/SWOT/WindWave/SWOT_...   \n",
       "18     /home/datawork-WW3/PROJECT/SWOT/WindWave/SWOT_...   \n",
       "19     /home/datawork-WW3/PROJECT/SWOT/WindWave/SWOT_...   \n",
       "...                                                  ...   \n",
       "10762  /home/datawork-WW3/PROJECT/SWOT/WindWave/SWOT_...   \n",
       "10763  /home/datawork-WW3/PROJECT/SWOT/WindWave/SWOT_...   \n",
       "10764  /home/datawork-WW3/PROJECT/SWOT/WindWave/SWOT_...   \n",
       "10765  /home/datawork-WW3/PROJECT/SWOT/WindWave/SWOT_...   \n",
       "10766  /home/datawork-WW3/PROJECT/SWOT/WindWave/SWOT_...   \n",
       "\n",
       "                                                 iw_file  \n",
       "9      /home/datawork-cersat-public/cache/project/sar...  \n",
       "10     /home/datawork-cersat-public/cache/project/sar...  \n",
       "11     /home/datawork-cersat-public/cache/project/sar...  \n",
       "18     /home/datawork-cersat-public/cache/project/sar...  \n",
       "19     /home/datawork-cersat-public/cache/project/sar...  \n",
       "...                                                  ...  \n",
       "10762  /home/datawork-cersat-public/cache/project/sar...  \n",
       "10763  /home/datawork-cersat-public/cache/project/sar...  \n",
       "10764  /home/datawork-cersat-public/cache/project/sar...  \n",
       "10765  /home/datawork-cersat-public/cache/project/sar...  \n",
       "10766  /home/datawork-cersat-public/cache/project/sar...  \n",
       "\n",
       "[2634 rows x 5 columns]"
      ]
     },
     "execution_count": 7,
     "metadata": {},
     "output_type": "execute_result"
    }
   ],
   "source": [
    "# On vire les rows où le iw_file n'est pas encore processé en L2 (nan value)\n",
    "df_coloc = df_coloc.dropna(subset=[\"iw_file\"])\n",
    "df_coloc"
   ]
  },
  {
   "cell_type": "code",
   "execution_count": 8,
   "id": "6bf8ba51-7fbe-4c13-80e9-ea699381e144",
   "metadata": {},
   "outputs": [
    {
     "name": "stderr",
     "output_type": "stream",
     "text": [
      "/dev/shm/pbs.3818094.datarmor0/ipykernel_51728/2776775329.py:114: FutureWarning: The behavior of DataFrame concatenation with empty or all-NA entries is deprecated. In a future version, this will no longer exclude empty or all-NA columns when determining the result dtypes. To retain the old behavior, exclude the relevant entries before the concat operation.\n",
      "  df_hs = pd.concat((df_hs, df_hs_i))\n"
     ]
    },
    {
     "name": "stdout",
     "output_type": "stream",
     "text": [
      "Progress: 0.33 % ----- Elapsed time: 0.0 m 3.0 s\n",
      "Progress: 0.66 % ----- Elapsed time: 0.0 m 5.0 s\n",
      "Progress: 0.98 % ----- Elapsed time: 0.0 m 7.0 s\n",
      "Progress: 1.31 % ----- Elapsed time: 0.0 m 8.0 s\n",
      "Progress: 1.64 % ----- Elapsed time: 0.0 m 11.0 s\n",
      "Progress: 1.97 % ----- Elapsed time: 0.0 m 13.0 s\n",
      "Progress: 2.3 % ----- Elapsed time: 0.0 m 15.0 s\n",
      "Progress: 2.62 % ----- Elapsed time: 0.0 m 18.0 s\n",
      "Progress: 2.95 % ----- Elapsed time: 0.0 m 20.0 s\n",
      "Progress: 3.28 % ----- Elapsed time: 0.0 m 23.0 s\n",
      "Progress: 3.61 % ----- Elapsed time: 0.0 m 25.0 s\n",
      "Progress: 3.93 % ----- Elapsed time: 0.0 m 26.0 s\n",
      "Progress: 4.26 % ----- Elapsed time: 0.0 m 28.0 s\n",
      "Progress: 4.92 % ----- Elapsed time: 0.0 m 35.0 s\n",
      "Progress: 5.25 % ----- Elapsed time: 0.0 m 38.0 s\n",
      "Progress: 5.57 % ----- Elapsed time: 0.0 m 46.0 s\n",
      "Progress: 5.9 % ----- Elapsed time: 0.0 m 48.0 s\n",
      "Progress: 6.23 % ----- Elapsed time: 0.0 m 50.0 s\n",
      "Progress: 6.56 % ----- Elapsed time: 0.0 m 52.0 s\n",
      "Progress: 7.21 % ----- Elapsed time: 0.0 m 58.0 s\n",
      "Progress: 7.87 % ----- Elapsed time: 1.0 m 2.0 s\n",
      "Progress: 8.85 % ----- Elapsed time: 1.0 m 6.0 s\n"
     ]
    },
    {
     "name": "stderr",
     "output_type": "stream",
     "text": [
      "/dev/shm/pbs.3818094.datarmor0/ipykernel_51728/2776775329.py:116: RuntimeWarning: Mean of empty slice\n",
      "  MEAN_HS_SWOT.append(np.nanmean(hs_swot))\n"
     ]
    },
    {
     "name": "stdout",
     "output_type": "stream",
     "text": [
      "Progress: 9.18 % ----- Elapsed time: 1.0 m 8.0 s\n",
      "Progress: 9.51 % ----- Elapsed time: 1.0 m 10.0 s\n",
      "Progress: 9.84 % ----- Elapsed time: 1.0 m 11.0 s\n",
      "Progress: 10.16 % ----- Elapsed time: 1.0 m 13.0 s\n",
      "Progress: 10.49 % ----- Elapsed time: 1.0 m 15.0 s\n",
      "Progress: 10.82 % ----- Elapsed time: 1.0 m 17.0 s\n"
     ]
    },
    {
     "name": "stderr",
     "output_type": "stream",
     "text": [
      "/dev/shm/pbs.3818094.datarmor0/ipykernel_51728/2776775329.py:116: RuntimeWarning: Mean of empty slice\n",
      "  MEAN_HS_SWOT.append(np.nanmean(hs_swot))\n"
     ]
    },
    {
     "name": "stdout",
     "output_type": "stream",
     "text": [
      "Progress: 11.15 % ----- Elapsed time: 1.0 m 18.0 s\n",
      "Progress: 11.8 % ----- Elapsed time: 1.0 m 25.0 s\n",
      "Progress: 12.13 % ----- Elapsed time: 1.0 m 27.0 s\n"
     ]
    },
    {
     "name": "stderr",
     "output_type": "stream",
     "text": [
      "/dev/shm/pbs.3818094.datarmor0/ipykernel_51728/2776775329.py:116: RuntimeWarning: Mean of empty slice\n",
      "  MEAN_HS_SWOT.append(np.nanmean(hs_swot))\n"
     ]
    },
    {
     "name": "stdout",
     "output_type": "stream",
     "text": [
      "Progress: 12.46 % ----- Elapsed time: 1.0 m 28.0 s\n",
      "Progress: 12.79 % ----- Elapsed time: 1.0 m 33.0 s\n",
      "Progress: 13.11 % ----- Elapsed time: 1.0 m 40.0 s\n"
     ]
    },
    {
     "name": "stderr",
     "output_type": "stream",
     "text": [
      "/dev/shm/pbs.3818094.datarmor0/ipykernel_51728/2776775329.py:47: RuntimeWarning: Mean of empty slice\n",
      "  HSML.append(np.nanmean(hsml))\n",
      "/dev/shm/pbs.3818094.datarmor0/ipykernel_51728/2776775329.py:54: RuntimeWarning: Mean of empty slice\n",
      "  HSML_CONFIDENT.append(np.nanmean(hsml_confident))\n",
      "/dev/shm/pbs.3818094.datarmor0/ipykernel_51728/2776775329.py:47: RuntimeWarning: Mean of empty slice\n",
      "  HSML.append(np.nanmean(hsml))\n",
      "/dev/shm/pbs.3818094.datarmor0/ipykernel_51728/2776775329.py:54: RuntimeWarning: Mean of empty slice\n",
      "  HSML_CONFIDENT.append(np.nanmean(hsml_confident))\n"
     ]
    },
    {
     "name": "stdout",
     "output_type": "stream",
     "text": [
      "Progress: 13.77 % ----- Elapsed time: 1.0 m 46.0 s\n",
      "Progress: 14.1 % ----- Elapsed time: 1.0 m 52.0 s\n",
      "Progress: 14.43 % ----- Elapsed time: 1.0 m 53.0 s\n",
      "Progress: 14.75 % ----- Elapsed time: 1.0 m 55.0 s\n",
      "Progress: 15.08 % ----- Elapsed time: 1.0 m 57.0 s\n"
     ]
    },
    {
     "name": "stderr",
     "output_type": "stream",
     "text": [
      "/dev/shm/pbs.3818094.datarmor0/ipykernel_51728/2776775329.py:47: RuntimeWarning: Mean of empty slice\n",
      "  HSML.append(np.nanmean(hsml))\n",
      "/dev/shm/pbs.3818094.datarmor0/ipykernel_51728/2776775329.py:54: RuntimeWarning: Mean of empty slice\n",
      "  HSML_CONFIDENT.append(np.nanmean(hsml_confident))\n",
      "/dev/shm/pbs.3818094.datarmor0/ipykernel_51728/2776775329.py:47: RuntimeWarning: Mean of empty slice\n",
      "  HSML.append(np.nanmean(hsml))\n",
      "/dev/shm/pbs.3818094.datarmor0/ipykernel_51728/2776775329.py:54: RuntimeWarning: Mean of empty slice\n",
      "  HSML_CONFIDENT.append(np.nanmean(hsml_confident))\n",
      "/dev/shm/pbs.3818094.datarmor0/ipykernel_51728/2776775329.py:47: RuntimeWarning: Mean of empty slice\n",
      "  HSML.append(np.nanmean(hsml))\n",
      "/dev/shm/pbs.3818094.datarmor0/ipykernel_51728/2776775329.py:54: RuntimeWarning: Mean of empty slice\n",
      "  HSML_CONFIDENT.append(np.nanmean(hsml_confident))\n"
     ]
    },
    {
     "name": "stdout",
     "output_type": "stream",
     "text": [
      "Progress: 15.41 % ----- Elapsed time: 2.0 m 3.0 s\n"
     ]
    },
    {
     "name": "stderr",
     "output_type": "stream",
     "text": [
      "/dev/shm/pbs.3818094.datarmor0/ipykernel_51728/2776775329.py:116: RuntimeWarning: Mean of empty slice\n",
      "  MEAN_HS_SWOT.append(np.nanmean(hs_swot))\n",
      "/dev/shm/pbs.3818094.datarmor0/ipykernel_51728/2776775329.py:47: RuntimeWarning: Mean of empty slice\n",
      "  HSML.append(np.nanmean(hsml))\n",
      "/dev/shm/pbs.3818094.datarmor0/ipykernel_51728/2776775329.py:54: RuntimeWarning: Mean of empty slice\n",
      "  HSML_CONFIDENT.append(np.nanmean(hsml_confident))\n"
     ]
    },
    {
     "name": "stdout",
     "output_type": "stream",
     "text": [
      "Progress: 15.74 % ----- Elapsed time: 2.0 m 5.0 s\n"
     ]
    },
    {
     "name": "stderr",
     "output_type": "stream",
     "text": [
      "/dev/shm/pbs.3818094.datarmor0/ipykernel_51728/2776775329.py:47: RuntimeWarning: Mean of empty slice\n",
      "  HSML.append(np.nanmean(hsml))\n",
      "/dev/shm/pbs.3818094.datarmor0/ipykernel_51728/2776775329.py:54: RuntimeWarning: Mean of empty slice\n",
      "  HSML_CONFIDENT.append(np.nanmean(hsml_confident))\n",
      "/dev/shm/pbs.3818094.datarmor0/ipykernel_51728/2776775329.py:47: RuntimeWarning: Mean of empty slice\n",
      "  HSML.append(np.nanmean(hsml))\n",
      "/dev/shm/pbs.3818094.datarmor0/ipykernel_51728/2776775329.py:54: RuntimeWarning: Mean of empty slice\n",
      "  HSML_CONFIDENT.append(np.nanmean(hsml_confident))\n"
     ]
    },
    {
     "name": "stdout",
     "output_type": "stream",
     "text": [
      "Progress: 16.39 % ----- Elapsed time: 2.0 m 13.0 s\n",
      "Progress: 16.72 % ----- Elapsed time: 2.0 m 15.0 s\n",
      "Progress: 17.05 % ----- Elapsed time: 2.0 m 17.0 s\n",
      "Progress: 17.38 % ----- Elapsed time: 2.0 m 19.0 s\n"
     ]
    },
    {
     "name": "stderr",
     "output_type": "stream",
     "text": [
      "/dev/shm/pbs.3818094.datarmor0/ipykernel_51728/2776775329.py:116: RuntimeWarning: Mean of empty slice\n",
      "  MEAN_HS_SWOT.append(np.nanmean(hs_swot))\n"
     ]
    },
    {
     "name": "stdout",
     "output_type": "stream",
     "text": [
      "Progress: 17.7 % ----- Elapsed time: 2.0 m 24.0 s\n"
     ]
    },
    {
     "name": "stderr",
     "output_type": "stream",
     "text": [
      "/dev/shm/pbs.3818094.datarmor0/ipykernel_51728/2776775329.py:116: RuntimeWarning: Mean of empty slice\n",
      "  MEAN_HS_SWOT.append(np.nanmean(hs_swot))\n"
     ]
    },
    {
     "name": "stdout",
     "output_type": "stream",
     "text": [
      "Progress: 18.03 % ----- Elapsed time: 2.0 m 29.0 s\n",
      "Progress: 18.36 % ----- Elapsed time: 2.0 m 33.0 s\n",
      "Progress: 18.69 % ----- Elapsed time: 2.0 m 35.0 s\n"
     ]
    },
    {
     "name": "stderr",
     "output_type": "stream",
     "text": [
      "/dev/shm/pbs.3818094.datarmor0/ipykernel_51728/2776775329.py:116: RuntimeWarning: Mean of empty slice\n",
      "  MEAN_HS_SWOT.append(np.nanmean(hs_swot))\n"
     ]
    },
    {
     "name": "stdout",
     "output_type": "stream",
     "text": [
      "Progress: 19.02 % ----- Elapsed time: 2.0 m 37.0 s\n"
     ]
    },
    {
     "name": "stderr",
     "output_type": "stream",
     "text": [
      "/dev/shm/pbs.3818094.datarmor0/ipykernel_51728/2776775329.py:116: RuntimeWarning: Mean of empty slice\n",
      "  MEAN_HS_SWOT.append(np.nanmean(hs_swot))\n"
     ]
    },
    {
     "name": "stdout",
     "output_type": "stream",
     "text": [
      "Progress: 19.34 % ----- Elapsed time: 2.0 m 40.0 s\n"
     ]
    },
    {
     "name": "stderr",
     "output_type": "stream",
     "text": [
      "/dev/shm/pbs.3818094.datarmor0/ipykernel_51728/2776775329.py:116: RuntimeWarning: Mean of empty slice\n",
      "  MEAN_HS_SWOT.append(np.nanmean(hs_swot))\n"
     ]
    },
    {
     "name": "stdout",
     "output_type": "stream",
     "text": [
      "Progress: 19.67 % ----- Elapsed time: 2.0 m 42.0 s\n"
     ]
    },
    {
     "name": "stderr",
     "output_type": "stream",
     "text": [
      "/home1/datahome/msimonne/scripts/Codes_PFE_Maturin/SWOT_tools.py:245: RuntimeWarning: All-NaN slice encountered\n",
      "  t_ini_swot = np.nanmin(ds_swot.time.values)\n",
      "/dev/shm/pbs.3818094.datarmor0/ipykernel_51728/2776775329.py:47: RuntimeWarning: Mean of empty slice\n",
      "  HSML.append(np.nanmean(hsml))\n",
      "/dev/shm/pbs.3818094.datarmor0/ipykernel_51728/2776775329.py:54: RuntimeWarning: Mean of empty slice\n",
      "  HSML_CONFIDENT.append(np.nanmean(hsml_confident))\n",
      "/dev/shm/pbs.3818094.datarmor0/ipykernel_51728/2776775329.py:47: RuntimeWarning: Mean of empty slice\n",
      "  HSML.append(np.nanmean(hsml))\n",
      "/dev/shm/pbs.3818094.datarmor0/ipykernel_51728/2776775329.py:54: RuntimeWarning: Mean of empty slice\n",
      "  HSML_CONFIDENT.append(np.nanmean(hsml_confident))\n"
     ]
    },
    {
     "name": "stdout",
     "output_type": "stream",
     "text": [
      "Progress: 20.33 % ----- Elapsed time: 2.0 m 46.0 s\n",
      "Progress: 20.66 % ----- Elapsed time: 2.0 m 48.0 s\n",
      "Progress: 20.98 % ----- Elapsed time: 2.0 m 52.0 s\n"
     ]
    },
    {
     "name": "stderr",
     "output_type": "stream",
     "text": [
      "/dev/shm/pbs.3818094.datarmor0/ipykernel_51728/2776775329.py:47: RuntimeWarning: Mean of empty slice\n",
      "  HSML.append(np.nanmean(hsml))\n",
      "/dev/shm/pbs.3818094.datarmor0/ipykernel_51728/2776775329.py:54: RuntimeWarning: Mean of empty slice\n",
      "  HSML_CONFIDENT.append(np.nanmean(hsml_confident))\n",
      "/dev/shm/pbs.3818094.datarmor0/ipykernel_51728/2776775329.py:47: RuntimeWarning: Mean of empty slice\n",
      "  HSML.append(np.nanmean(hsml))\n",
      "/dev/shm/pbs.3818094.datarmor0/ipykernel_51728/2776775329.py:54: RuntimeWarning: Mean of empty slice\n",
      "  HSML_CONFIDENT.append(np.nanmean(hsml_confident))\n"
     ]
    },
    {
     "name": "stdout",
     "output_type": "stream",
     "text": [
      "Progress: 21.31 % ----- Elapsed time: 2.0 m 53.0 s\n",
      "Progress: 21.64 % ----- Elapsed time: 3.0 m 3.0 s\n",
      "Progress: 21.97 % ----- Elapsed time: 3.0 m 6.0 s\n",
      "Progress: 22.3 % ----- Elapsed time: 3.0 m 11.0 s\n",
      "Progress: 22.62 % ----- Elapsed time: 3.0 m 15.0 s\n"
     ]
    },
    {
     "name": "stderr",
     "output_type": "stream",
     "text": [
      "/dev/shm/pbs.3818094.datarmor0/ipykernel_51728/2776775329.py:47: RuntimeWarning: Mean of empty slice\n",
      "  HSML.append(np.nanmean(hsml))\n",
      "/dev/shm/pbs.3818094.datarmor0/ipykernel_51728/2776775329.py:54: RuntimeWarning: Mean of empty slice\n",
      "  HSML_CONFIDENT.append(np.nanmean(hsml_confident))\n"
     ]
    },
    {
     "name": "stdout",
     "output_type": "stream",
     "text": [
      "Progress: 22.95 % ----- Elapsed time: 3.0 m 23.0 s\n",
      "Progress: 23.28 % ----- Elapsed time: 3.0 m 25.0 s\n"
     ]
    },
    {
     "name": "stderr",
     "output_type": "stream",
     "text": [
      "/dev/shm/pbs.3818094.datarmor0/ipykernel_51728/2776775329.py:47: RuntimeWarning: Mean of empty slice\n",
      "  HSML.append(np.nanmean(hsml))\n",
      "/dev/shm/pbs.3818094.datarmor0/ipykernel_51728/2776775329.py:54: RuntimeWarning: Mean of empty slice\n",
      "  HSML_CONFIDENT.append(np.nanmean(hsml_confident))\n",
      "/dev/shm/pbs.3818094.datarmor0/ipykernel_51728/2776775329.py:47: RuntimeWarning: Mean of empty slice\n",
      "  HSML.append(np.nanmean(hsml))\n",
      "/dev/shm/pbs.3818094.datarmor0/ipykernel_51728/2776775329.py:54: RuntimeWarning: Mean of empty slice\n",
      "  HSML_CONFIDENT.append(np.nanmean(hsml_confident))\n"
     ]
    },
    {
     "name": "stdout",
     "output_type": "stream",
     "text": [
      "Progress: 23.61 % ----- Elapsed time: 3.0 m 30.0 s\n",
      "Progress: 23.93 % ----- Elapsed time: 3.0 m 40.0 s\n"
     ]
    },
    {
     "name": "stderr",
     "output_type": "stream",
     "text": [
      "/dev/shm/pbs.3818094.datarmor0/ipykernel_51728/2776775329.py:116: RuntimeWarning: Mean of empty slice\n",
      "  MEAN_HS_SWOT.append(np.nanmean(hs_swot))\n"
     ]
    },
    {
     "name": "stdout",
     "output_type": "stream",
     "text": [
      "Progress: 24.59 % ----- Elapsed time: 3.0 m 45.0 s\n"
     ]
    },
    {
     "name": "stderr",
     "output_type": "stream",
     "text": [
      "/dev/shm/pbs.3818094.datarmor0/ipykernel_51728/2776775329.py:116: RuntimeWarning: Mean of empty slice\n",
      "  MEAN_HS_SWOT.append(np.nanmean(hs_swot))\n"
     ]
    },
    {
     "name": "stdout",
     "output_type": "stream",
     "text": [
      "Progress: 24.92 % ----- Elapsed time: 3.0 m 47.0 s\n",
      "Progress: 25.25 % ----- Elapsed time: 3.0 m 52.0 s\n",
      "Progress: 25.57 % ----- Elapsed time: 3.0 m 54.0 s\n",
      "Progress: 26.23 % ----- Elapsed time: 3.0 m 57.0 s\n"
     ]
    },
    {
     "name": "stderr",
     "output_type": "stream",
     "text": [
      "/dev/shm/pbs.3818094.datarmor0/ipykernel_51728/2776775329.py:116: RuntimeWarning: Mean of empty slice\n",
      "  MEAN_HS_SWOT.append(np.nanmean(hs_swot))\n",
      "/dev/shm/pbs.3818094.datarmor0/ipykernel_51728/2776775329.py:47: RuntimeWarning: Mean of empty slice\n",
      "  HSML.append(np.nanmean(hsml))\n",
      "/dev/shm/pbs.3818094.datarmor0/ipykernel_51728/2776775329.py:54: RuntimeWarning: Mean of empty slice\n",
      "  HSML_CONFIDENT.append(np.nanmean(hsml_confident))\n"
     ]
    },
    {
     "name": "stdout",
     "output_type": "stream",
     "text": [
      "Progress: 26.56 % ----- Elapsed time: 3.0 m 59.0 s\n",
      "Progress: 26.89 % ----- Elapsed time: 4.0 m 1.0 s\n"
     ]
    },
    {
     "name": "stderr",
     "output_type": "stream",
     "text": [
      "/dev/shm/pbs.3818094.datarmor0/ipykernel_51728/2776775329.py:47: RuntimeWarning: Mean of empty slice\n",
      "  HSML.append(np.nanmean(hsml))\n",
      "/dev/shm/pbs.3818094.datarmor0/ipykernel_51728/2776775329.py:54: RuntimeWarning: Mean of empty slice\n",
      "  HSML_CONFIDENT.append(np.nanmean(hsml_confident))\n",
      "/dev/shm/pbs.3818094.datarmor0/ipykernel_51728/2776775329.py:47: RuntimeWarning: Mean of empty slice\n",
      "  HSML.append(np.nanmean(hsml))\n",
      "/dev/shm/pbs.3818094.datarmor0/ipykernel_51728/2776775329.py:54: RuntimeWarning: Mean of empty slice\n",
      "  HSML_CONFIDENT.append(np.nanmean(hsml_confident))\n",
      "/dev/shm/pbs.3818094.datarmor0/ipykernel_51728/2776775329.py:47: RuntimeWarning: Mean of empty slice\n",
      "  HSML.append(np.nanmean(hsml))\n",
      "/dev/shm/pbs.3818094.datarmor0/ipykernel_51728/2776775329.py:54: RuntimeWarning: Mean of empty slice\n",
      "  HSML_CONFIDENT.append(np.nanmean(hsml_confident))\n"
     ]
    },
    {
     "name": "stdout",
     "output_type": "stream",
     "text": [
      "Progress: 27.21 % ----- Elapsed time: 4.0 m 3.0 s\n"
     ]
    },
    {
     "name": "stderr",
     "output_type": "stream",
     "text": [
      "/dev/shm/pbs.3818094.datarmor0/ipykernel_51728/2776775329.py:116: RuntimeWarning: Mean of empty slice\n",
      "  MEAN_HS_SWOT.append(np.nanmean(hs_swot))\n",
      "/dev/shm/pbs.3818094.datarmor0/ipykernel_51728/2776775329.py:47: RuntimeWarning: Mean of empty slice\n",
      "  HSML.append(np.nanmean(hsml))\n",
      "/dev/shm/pbs.3818094.datarmor0/ipykernel_51728/2776775329.py:54: RuntimeWarning: Mean of empty slice\n",
      "  HSML_CONFIDENT.append(np.nanmean(hsml_confident))\n",
      "/dev/shm/pbs.3818094.datarmor0/ipykernel_51728/2776775329.py:47: RuntimeWarning: Mean of empty slice\n",
      "  HSML.append(np.nanmean(hsml))\n",
      "/dev/shm/pbs.3818094.datarmor0/ipykernel_51728/2776775329.py:54: RuntimeWarning: Mean of empty slice\n",
      "  HSML_CONFIDENT.append(np.nanmean(hsml_confident))\n"
     ]
    },
    {
     "name": "stdout",
     "output_type": "stream",
     "text": [
      "Progress: 27.54 % ----- Elapsed time: 4.0 m 9.0 s\n"
     ]
    },
    {
     "name": "stderr",
     "output_type": "stream",
     "text": [
      "/dev/shm/pbs.3818094.datarmor0/ipykernel_51728/2776775329.py:47: RuntimeWarning: Mean of empty slice\n",
      "  HSML.append(np.nanmean(hsml))\n",
      "/dev/shm/pbs.3818094.datarmor0/ipykernel_51728/2776775329.py:54: RuntimeWarning: Mean of empty slice\n",
      "  HSML_CONFIDENT.append(np.nanmean(hsml_confident))\n"
     ]
    },
    {
     "name": "stdout",
     "output_type": "stream",
     "text": [
      "Progress: 27.87 % ----- Elapsed time: 4.0 m 20.0 s\n",
      "Progress: 28.2 % ----- Elapsed time: 4.0 m 29.0 s\n"
     ]
    },
    {
     "name": "stderr",
     "output_type": "stream",
     "text": [
      "/dev/shm/pbs.3818094.datarmor0/ipykernel_51728/2776775329.py:116: RuntimeWarning: Mean of empty slice\n",
      "  MEAN_HS_SWOT.append(np.nanmean(hs_swot))\n"
     ]
    },
    {
     "name": "stdout",
     "output_type": "stream",
     "text": [
      "Progress: 28.52 % ----- Elapsed time: 4.0 m 39.0 s\n",
      "Progress: 29.18 % ----- Elapsed time: 4.0 m 44.0 s\n",
      "Progress: 29.51 % ----- Elapsed time: 4.0 m 49.0 s\n"
     ]
    },
    {
     "name": "stderr",
     "output_type": "stream",
     "text": [
      "/dev/shm/pbs.3818094.datarmor0/ipykernel_51728/2776775329.py:116: RuntimeWarning: Mean of empty slice\n",
      "  MEAN_HS_SWOT.append(np.nanmean(hs_swot))\n"
     ]
    },
    {
     "name": "stdout",
     "output_type": "stream",
     "text": [
      "Progress: 29.84 % ----- Elapsed time: 4.0 m 53.0 s\n",
      "Progress: 30.16 % ----- Elapsed time: 4.0 m 58.0 s\n"
     ]
    },
    {
     "name": "stderr",
     "output_type": "stream",
     "text": [
      "/dev/shm/pbs.3818094.datarmor0/ipykernel_51728/2776775329.py:47: RuntimeWarning: Mean of empty slice\n",
      "  HSML.append(np.nanmean(hsml))\n",
      "/dev/shm/pbs.3818094.datarmor0/ipykernel_51728/2776775329.py:54: RuntimeWarning: Mean of empty slice\n",
      "  HSML_CONFIDENT.append(np.nanmean(hsml_confident))\n"
     ]
    },
    {
     "name": "stdout",
     "output_type": "stream",
     "text": [
      "Progress: 30.49 % ----- Elapsed time: 5.0 m 4.0 s\n",
      "Progress: 30.82 % ----- Elapsed time: 5.0 m 6.0 s\n",
      "Progress: 31.15 % ----- Elapsed time: 5.0 m 9.0 s\n"
     ]
    },
    {
     "name": "stderr",
     "output_type": "stream",
     "text": [
      "/dev/shm/pbs.3818094.datarmor0/ipykernel_51728/2776775329.py:116: RuntimeWarning: Mean of empty slice\n",
      "  MEAN_HS_SWOT.append(np.nanmean(hs_swot))\n"
     ]
    },
    {
     "name": "stdout",
     "output_type": "stream",
     "text": [
      "Progress: 31.48 % ----- Elapsed time: 5.0 m 11.0 s\n",
      "Progress: 31.8 % ----- Elapsed time: 5.0 m 15.0 s\n"
     ]
    },
    {
     "name": "stderr",
     "output_type": "stream",
     "text": [
      "/dev/shm/pbs.3818094.datarmor0/ipykernel_51728/2776775329.py:47: RuntimeWarning: Mean of empty slice\n",
      "  HSML.append(np.nanmean(hsml))\n",
      "/dev/shm/pbs.3818094.datarmor0/ipykernel_51728/2776775329.py:54: RuntimeWarning: Mean of empty slice\n",
      "  HSML_CONFIDENT.append(np.nanmean(hsml_confident))\n",
      "/dev/shm/pbs.3818094.datarmor0/ipykernel_51728/2776775329.py:47: RuntimeWarning: Mean of empty slice\n",
      "  HSML.append(np.nanmean(hsml))\n",
      "/dev/shm/pbs.3818094.datarmor0/ipykernel_51728/2776775329.py:54: RuntimeWarning: Mean of empty slice\n",
      "  HSML_CONFIDENT.append(np.nanmean(hsml_confident))\n",
      "/dev/shm/pbs.3818094.datarmor0/ipykernel_51728/2776775329.py:47: RuntimeWarning: Mean of empty slice\n",
      "  HSML.append(np.nanmean(hsml))\n",
      "/dev/shm/pbs.3818094.datarmor0/ipykernel_51728/2776775329.py:54: RuntimeWarning: Mean of empty slice\n",
      "  HSML_CONFIDENT.append(np.nanmean(hsml_confident))\n",
      "/dev/shm/pbs.3818094.datarmor0/ipykernel_51728/2776775329.py:47: RuntimeWarning: Mean of empty slice\n",
      "  HSML.append(np.nanmean(hsml))\n",
      "/dev/shm/pbs.3818094.datarmor0/ipykernel_51728/2776775329.py:54: RuntimeWarning: Mean of empty slice\n",
      "  HSML_CONFIDENT.append(np.nanmean(hsml_confident))\n",
      "/dev/shm/pbs.3818094.datarmor0/ipykernel_51728/2776775329.py:116: RuntimeWarning: Mean of empty slice\n",
      "  MEAN_HS_SWOT.append(np.nanmean(hs_swot))\n"
     ]
    },
    {
     "name": "stdout",
     "output_type": "stream",
     "text": [
      "Progress: 32.46 % ----- Elapsed time: 5.0 m 22.0 s\n",
      "Progress: 32.79 % ----- Elapsed time: 5.0 m 28.0 s\n"
     ]
    },
    {
     "name": "stderr",
     "output_type": "stream",
     "text": [
      "/dev/shm/pbs.3818094.datarmor0/ipykernel_51728/2776775329.py:47: RuntimeWarning: Mean of empty slice\n",
      "  HSML.append(np.nanmean(hsml))\n",
      "/dev/shm/pbs.3818094.datarmor0/ipykernel_51728/2776775329.py:54: RuntimeWarning: Mean of empty slice\n",
      "  HSML_CONFIDENT.append(np.nanmean(hsml_confident))\n"
     ]
    },
    {
     "name": "stdout",
     "output_type": "stream",
     "text": [
      "Progress: 33.44 % ----- Elapsed time: 5.0 m 31.0 s\n"
     ]
    },
    {
     "name": "stderr",
     "output_type": "stream",
     "text": [
      "/dev/shm/pbs.3818094.datarmor0/ipykernel_51728/2776775329.py:116: RuntimeWarning: Mean of empty slice\n",
      "  MEAN_HS_SWOT.append(np.nanmean(hs_swot))\n"
     ]
    },
    {
     "name": "stdout",
     "output_type": "stream",
     "text": [
      "Progress: 33.77 % ----- Elapsed time: 5.0 m 41.0 s\n"
     ]
    },
    {
     "name": "stderr",
     "output_type": "stream",
     "text": [
      "/dev/shm/pbs.3818094.datarmor0/ipykernel_51728/2776775329.py:47: RuntimeWarning: Mean of empty slice\n",
      "  HSML.append(np.nanmean(hsml))\n",
      "/dev/shm/pbs.3818094.datarmor0/ipykernel_51728/2776775329.py:54: RuntimeWarning: Mean of empty slice\n",
      "  HSML_CONFIDENT.append(np.nanmean(hsml_confident))\n",
      "/dev/shm/pbs.3818094.datarmor0/ipykernel_51728/2776775329.py:116: RuntimeWarning: Mean of empty slice\n",
      "  MEAN_HS_SWOT.append(np.nanmean(hs_swot))\n"
     ]
    },
    {
     "name": "stdout",
     "output_type": "stream",
     "text": [
      "Progress: 34.43 % ----- Elapsed time: 5.0 m 46.0 s\n"
     ]
    },
    {
     "name": "stderr",
     "output_type": "stream",
     "text": [
      "/dev/shm/pbs.3818094.datarmor0/ipykernel_51728/2776775329.py:116: RuntimeWarning: Mean of empty slice\n",
      "  MEAN_HS_SWOT.append(np.nanmean(hs_swot))\n"
     ]
    },
    {
     "name": "stdout",
     "output_type": "stream",
     "text": [
      "Progress: 34.75 % ----- Elapsed time: 5.0 m 48.0 s\n"
     ]
    },
    {
     "name": "stderr",
     "output_type": "stream",
     "text": [
      "/dev/shm/pbs.3818094.datarmor0/ipykernel_51728/2776775329.py:116: RuntimeWarning: Mean of empty slice\n",
      "  MEAN_HS_SWOT.append(np.nanmean(hs_swot))\n"
     ]
    },
    {
     "name": "stdout",
     "output_type": "stream",
     "text": [
      "Progress: 35.08 % ----- Elapsed time: 5.0 m 53.0 s\n",
      "Progress: 35.41 % ----- Elapsed time: 5.0 m 54.0 s\n",
      "Progress: 35.74 % ----- Elapsed time: 5.0 m 57.0 s\n",
      "Progress: 36.07 % ----- Elapsed time: 5.0 m 60.0 s\n"
     ]
    },
    {
     "name": "stderr",
     "output_type": "stream",
     "text": [
      "/dev/shm/pbs.3818094.datarmor0/ipykernel_51728/2776775329.py:116: RuntimeWarning: Mean of empty slice\n",
      "  MEAN_HS_SWOT.append(np.nanmean(hs_swot))\n"
     ]
    },
    {
     "name": "stdout",
     "output_type": "stream",
     "text": [
      "Progress: 36.39 % ----- Elapsed time: 6.0 m 1.0 s\n"
     ]
    },
    {
     "name": "stderr",
     "output_type": "stream",
     "text": [
      "/dev/shm/pbs.3818094.datarmor0/ipykernel_51728/2776775329.py:116: RuntimeWarning: Mean of empty slice\n",
      "  MEAN_HS_SWOT.append(np.nanmean(hs_swot))\n"
     ]
    },
    {
     "name": "stdout",
     "output_type": "stream",
     "text": [
      "Progress: 36.72 % ----- Elapsed time: 6.0 m 2.0 s\n"
     ]
    },
    {
     "name": "stderr",
     "output_type": "stream",
     "text": [
      "/dev/shm/pbs.3818094.datarmor0/ipykernel_51728/2776775329.py:116: RuntimeWarning: Mean of empty slice\n",
      "  MEAN_HS_SWOT.append(np.nanmean(hs_swot))\n"
     ]
    },
    {
     "name": "stdout",
     "output_type": "stream",
     "text": [
      "Progress: 37.05 % ----- Elapsed time: 6.0 m 4.0 s\n",
      "Progress: 37.38 % ----- Elapsed time: 6.0 m 8.0 s\n"
     ]
    },
    {
     "name": "stderr",
     "output_type": "stream",
     "text": [
      "/dev/shm/pbs.3818094.datarmor0/ipykernel_51728/2776775329.py:47: RuntimeWarning: Mean of empty slice\n",
      "  HSML.append(np.nanmean(hsml))\n",
      "/dev/shm/pbs.3818094.datarmor0/ipykernel_51728/2776775329.py:54: RuntimeWarning: Mean of empty slice\n",
      "  HSML_CONFIDENT.append(np.nanmean(hsml_confident))\n",
      "/dev/shm/pbs.3818094.datarmor0/ipykernel_51728/2776775329.py:47: RuntimeWarning: Mean of empty slice\n",
      "  HSML.append(np.nanmean(hsml))\n",
      "/dev/shm/pbs.3818094.datarmor0/ipykernel_51728/2776775329.py:54: RuntimeWarning: Mean of empty slice\n",
      "  HSML_CONFIDENT.append(np.nanmean(hsml_confident))\n"
     ]
    },
    {
     "name": "stdout",
     "output_type": "stream",
     "text": [
      "Progress: 37.7 % ----- Elapsed time: 6.0 m 11.0 s\n"
     ]
    },
    {
     "name": "stderr",
     "output_type": "stream",
     "text": [
      "/dev/shm/pbs.3818094.datarmor0/ipykernel_51728/2776775329.py:47: RuntimeWarning: Mean of empty slice\n",
      "  HSML.append(np.nanmean(hsml))\n",
      "/dev/shm/pbs.3818094.datarmor0/ipykernel_51728/2776775329.py:54: RuntimeWarning: Mean of empty slice\n",
      "  HSML_CONFIDENT.append(np.nanmean(hsml_confident))\n"
     ]
    },
    {
     "name": "stdout",
     "output_type": "stream",
     "text": [
      "Progress: 38.03 % ----- Elapsed time: 6.0 m 14.0 s\n",
      "Progress: 38.36 % ----- Elapsed time: 6.0 m 20.0 s\n",
      "Progress: 38.69 % ----- Elapsed time: 6.0 m 22.0 s\n",
      "Progress: 39.02 % ----- Elapsed time: 6.0 m 24.0 s\n",
      "Progress: 39.34 % ----- Elapsed time: 6.0 m 30.0 s\n"
     ]
    },
    {
     "name": "stderr",
     "output_type": "stream",
     "text": [
      "/dev/shm/pbs.3818094.datarmor0/ipykernel_51728/2776775329.py:47: RuntimeWarning: Mean of empty slice\n",
      "  HSML.append(np.nanmean(hsml))\n",
      "/dev/shm/pbs.3818094.datarmor0/ipykernel_51728/2776775329.py:54: RuntimeWarning: Mean of empty slice\n",
      "  HSML_CONFIDENT.append(np.nanmean(hsml_confident))\n"
     ]
    },
    {
     "name": "stdout",
     "output_type": "stream",
     "text": [
      "Progress: 39.67 % ----- Elapsed time: 6.0 m 32.0 s\n"
     ]
    },
    {
     "name": "stderr",
     "output_type": "stream",
     "text": [
      "/dev/shm/pbs.3818094.datarmor0/ipykernel_51728/2776775329.py:116: RuntimeWarning: Mean of empty slice\n",
      "  MEAN_HS_SWOT.append(np.nanmean(hs_swot))\n",
      "/dev/shm/pbs.3818094.datarmor0/ipykernel_51728/2776775329.py:47: RuntimeWarning: Mean of empty slice\n",
      "  HSML.append(np.nanmean(hsml))\n",
      "/dev/shm/pbs.3818094.datarmor0/ipykernel_51728/2776775329.py:54: RuntimeWarning: Mean of empty slice\n",
      "  HSML_CONFIDENT.append(np.nanmean(hsml_confident))\n",
      "/dev/shm/pbs.3818094.datarmor0/ipykernel_51728/2776775329.py:47: RuntimeWarning: Mean of empty slice\n",
      "  HSML.append(np.nanmean(hsml))\n",
      "/dev/shm/pbs.3818094.datarmor0/ipykernel_51728/2776775329.py:54: RuntimeWarning: Mean of empty slice\n",
      "  HSML_CONFIDENT.append(np.nanmean(hsml_confident))\n",
      "/dev/shm/pbs.3818094.datarmor0/ipykernel_51728/2776775329.py:47: RuntimeWarning: Mean of empty slice\n",
      "  HSML.append(np.nanmean(hsml))\n",
      "/dev/shm/pbs.3818094.datarmor0/ipykernel_51728/2776775329.py:54: RuntimeWarning: Mean of empty slice\n",
      "  HSML_CONFIDENT.append(np.nanmean(hsml_confident))\n"
     ]
    },
    {
     "name": "stdout",
     "output_type": "stream",
     "text": [
      "Progress: 40.33 % ----- Elapsed time: 6.0 m 34.0 s\n",
      "Progress: 40.66 % ----- Elapsed time: 6.0 m 39.0 s\n",
      "Progress: 40.98 % ----- Elapsed time: 6.0 m 43.0 s\n"
     ]
    },
    {
     "name": "stderr",
     "output_type": "stream",
     "text": [
      "/dev/shm/pbs.3818094.datarmor0/ipykernel_51728/2776775329.py:116: RuntimeWarning: Mean of empty slice\n",
      "  MEAN_HS_SWOT.append(np.nanmean(hs_swot))\n"
     ]
    },
    {
     "name": "stdout",
     "output_type": "stream",
     "text": [
      "Progress: 41.64 % ----- Elapsed time: 6.0 m 46.0 s\n",
      "Progress: 41.97 % ----- Elapsed time: 6.0 m 49.0 s\n",
      "Progress: 42.3 % ----- Elapsed time: 6.0 m 52.0 s\n"
     ]
    },
    {
     "name": "stderr",
     "output_type": "stream",
     "text": [
      "/dev/shm/pbs.3818094.datarmor0/ipykernel_51728/2776775329.py:116: RuntimeWarning: Mean of empty slice\n",
      "  MEAN_HS_SWOT.append(np.nanmean(hs_swot))\n"
     ]
    },
    {
     "name": "stdout",
     "output_type": "stream",
     "text": [
      "Progress: 42.62 % ----- Elapsed time: 6.0 m 54.0 s\n"
     ]
    },
    {
     "name": "stderr",
     "output_type": "stream",
     "text": [
      "/dev/shm/pbs.3818094.datarmor0/ipykernel_51728/2776775329.py:116: RuntimeWarning: Mean of empty slice\n",
      "  MEAN_HS_SWOT.append(np.nanmean(hs_swot))\n"
     ]
    },
    {
     "name": "stdout",
     "output_type": "stream",
     "text": [
      "Progress: 42.95 % ----- Elapsed time: 6.0 m 57.0 s\n",
      "Progress: 43.28 % ----- Elapsed time: 6.0 m 59.0 s\n",
      "Progress: 43.61 % ----- Elapsed time: 7.0 m 0.0 s\n",
      "Progress: 43.93 % ----- Elapsed time: 7.0 m 3.0 s\n",
      "Progress: 44.26 % ----- Elapsed time: 7.0 m 4.0 s\n",
      "Progress: 44.92 % ----- Elapsed time: 7.0 m 7.0 s\n",
      "Progress: 45.25 % ----- Elapsed time: 7.0 m 11.0 s\n",
      "Progress: 45.57 % ----- Elapsed time: 7.0 m 13.0 s\n"
     ]
    },
    {
     "name": "stderr",
     "output_type": "stream",
     "text": [
      "/dev/shm/pbs.3818094.datarmor0/ipykernel_51728/2776775329.py:116: RuntimeWarning: Mean of empty slice\n",
      "  MEAN_HS_SWOT.append(np.nanmean(hs_swot))\n"
     ]
    },
    {
     "name": "stdout",
     "output_type": "stream",
     "text": [
      "Progress: 45.9 % ----- Elapsed time: 7.0 m 15.0 s\n"
     ]
    },
    {
     "name": "stderr",
     "output_type": "stream",
     "text": [
      "/home1/datahome/msimonne/scripts/Codes_PFE_Maturin/SWOT_tools.py:245: RuntimeWarning: All-NaN slice encountered\n",
      "  t_ini_swot = np.nanmin(ds_swot.time.values)\n"
     ]
    },
    {
     "name": "stdout",
     "output_type": "stream",
     "text": [
      "Progress: 46.56 % ----- Elapsed time: 7.0 m 17.0 s\n",
      "Progress: 46.89 % ----- Elapsed time: 7.0 m 22.0 s\n"
     ]
    },
    {
     "name": "stderr",
     "output_type": "stream",
     "text": [
      "/dev/shm/pbs.3818094.datarmor0/ipykernel_51728/2776775329.py:47: RuntimeWarning: Mean of empty slice\n",
      "  HSML.append(np.nanmean(hsml))\n",
      "/dev/shm/pbs.3818094.datarmor0/ipykernel_51728/2776775329.py:54: RuntimeWarning: Mean of empty slice\n",
      "  HSML_CONFIDENT.append(np.nanmean(hsml_confident))\n",
      "/dev/shm/pbs.3818094.datarmor0/ipykernel_51728/2776775329.py:116: RuntimeWarning: Mean of empty slice\n",
      "  MEAN_HS_SWOT.append(np.nanmean(hs_swot))\n"
     ]
    },
    {
     "name": "stdout",
     "output_type": "stream",
     "text": [
      "Progress: 47.21 % ----- Elapsed time: 7.0 m 26.0 s\n",
      "Progress: 47.54 % ----- Elapsed time: 7.0 m 39.0 s\n"
     ]
    },
    {
     "name": "stderr",
     "output_type": "stream",
     "text": [
      "/dev/shm/pbs.3818094.datarmor0/ipykernel_51728/2776775329.py:116: RuntimeWarning: Mean of empty slice\n",
      "  MEAN_HS_SWOT.append(np.nanmean(hs_swot))\n"
     ]
    },
    {
     "name": "stdout",
     "output_type": "stream",
     "text": [
      "Progress: 47.87 % ----- Elapsed time: 7.0 m 41.0 s\n",
      "Progress: 48.2 % ----- Elapsed time: 7.0 m 48.0 s\n"
     ]
    },
    {
     "name": "stderr",
     "output_type": "stream",
     "text": [
      "/dev/shm/pbs.3818094.datarmor0/ipykernel_51728/2776775329.py:47: RuntimeWarning: Mean of empty slice\n",
      "  HSML.append(np.nanmean(hsml))\n",
      "/dev/shm/pbs.3818094.datarmor0/ipykernel_51728/2776775329.py:54: RuntimeWarning: Mean of empty slice\n",
      "  HSML_CONFIDENT.append(np.nanmean(hsml_confident))\n",
      "/dev/shm/pbs.3818094.datarmor0/ipykernel_51728/2776775329.py:47: RuntimeWarning: Mean of empty slice\n",
      "  HSML.append(np.nanmean(hsml))\n",
      "/dev/shm/pbs.3818094.datarmor0/ipykernel_51728/2776775329.py:54: RuntimeWarning: Mean of empty slice\n",
      "  HSML_CONFIDENT.append(np.nanmean(hsml_confident))\n",
      "/dev/shm/pbs.3818094.datarmor0/ipykernel_51728/2776775329.py:47: RuntimeWarning: Mean of empty slice\n",
      "  HSML.append(np.nanmean(hsml))\n",
      "/dev/shm/pbs.3818094.datarmor0/ipykernel_51728/2776775329.py:54: RuntimeWarning: Mean of empty slice\n",
      "  HSML_CONFIDENT.append(np.nanmean(hsml_confident))\n",
      "/dev/shm/pbs.3818094.datarmor0/ipykernel_51728/2776775329.py:47: RuntimeWarning: Mean of empty slice\n",
      "  HSML.append(np.nanmean(hsml))\n",
      "/dev/shm/pbs.3818094.datarmor0/ipykernel_51728/2776775329.py:54: RuntimeWarning: Mean of empty slice\n",
      "  HSML_CONFIDENT.append(np.nanmean(hsml_confident))\n",
      "/dev/shm/pbs.3818094.datarmor0/ipykernel_51728/2776775329.py:47: RuntimeWarning: Mean of empty slice\n",
      "  HSML.append(np.nanmean(hsml))\n",
      "/dev/shm/pbs.3818094.datarmor0/ipykernel_51728/2776775329.py:54: RuntimeWarning: Mean of empty slice\n",
      "  HSML_CONFIDENT.append(np.nanmean(hsml_confident))\n"
     ]
    },
    {
     "name": "stdout",
     "output_type": "stream",
     "text": [
      "Progress: 48.52 % ----- Elapsed time: 7.0 m 53.0 s\n",
      "Progress: 48.85 % ----- Elapsed time: 7.0 m 57.0 s\n"
     ]
    },
    {
     "name": "stderr",
     "output_type": "stream",
     "text": [
      "/home1/datahome/msimonne/scripts/Codes_PFE_Maturin/SWOT_tools.py:245: RuntimeWarning: All-NaN slice encountered\n",
      "  t_ini_swot = np.nanmin(ds_swot.time.values)\n"
     ]
    },
    {
     "name": "stdout",
     "output_type": "stream",
     "text": [
      "Progress: 49.51 % ----- Elapsed time: 8.0 m 1.0 s\n"
     ]
    },
    {
     "name": "stderr",
     "output_type": "stream",
     "text": [
      "/dev/shm/pbs.3818094.datarmor0/ipykernel_51728/2776775329.py:47: RuntimeWarning: Mean of empty slice\n",
      "  HSML.append(np.nanmean(hsml))\n",
      "/dev/shm/pbs.3818094.datarmor0/ipykernel_51728/2776775329.py:54: RuntimeWarning: Mean of empty slice\n",
      "  HSML_CONFIDENT.append(np.nanmean(hsml_confident))\n",
      "/dev/shm/pbs.3818094.datarmor0/ipykernel_51728/2776775329.py:116: RuntimeWarning: Mean of empty slice\n",
      "  MEAN_HS_SWOT.append(np.nanmean(hs_swot))\n"
     ]
    },
    {
     "name": "stdout",
     "output_type": "stream",
     "text": [
      "Progress: 49.84 % ----- Elapsed time: 8.0 m 7.0 s\n"
     ]
    },
    {
     "name": "stderr",
     "output_type": "stream",
     "text": [
      "/dev/shm/pbs.3818094.datarmor0/ipykernel_51728/2776775329.py:47: RuntimeWarning: Mean of empty slice\n",
      "  HSML.append(np.nanmean(hsml))\n",
      "/dev/shm/pbs.3818094.datarmor0/ipykernel_51728/2776775329.py:54: RuntimeWarning: Mean of empty slice\n",
      "  HSML_CONFIDENT.append(np.nanmean(hsml_confident))\n"
     ]
    },
    {
     "name": "stdout",
     "output_type": "stream",
     "text": [
      "Progress: 50.16 % ----- Elapsed time: 12.0 m 0.0 s\n",
      "Progress: 50.49 % ----- Elapsed time: 12.0 m 7.0 s\n",
      "Progress: 50.82 % ----- Elapsed time: 12.0 m 30.0 s\n",
      "Progress: 51.15 % ----- Elapsed time: 12.0 m 36.0 s\n"
     ]
    },
    {
     "name": "stderr",
     "output_type": "stream",
     "text": [
      "/dev/shm/pbs.3818094.datarmor0/ipykernel_51728/2776775329.py:116: RuntimeWarning: Mean of empty slice\n",
      "  MEAN_HS_SWOT.append(np.nanmean(hs_swot))\n",
      "/dev/shm/pbs.3818094.datarmor0/ipykernel_51728/2776775329.py:47: RuntimeWarning: Mean of empty slice\n",
      "  HSML.append(np.nanmean(hsml))\n",
      "/dev/shm/pbs.3818094.datarmor0/ipykernel_51728/2776775329.py:54: RuntimeWarning: Mean of empty slice\n",
      "  HSML_CONFIDENT.append(np.nanmean(hsml_confident))\n"
     ]
    },
    {
     "name": "stdout",
     "output_type": "stream",
     "text": [
      "Progress: 51.48 % ----- Elapsed time: 12.0 m 37.0 s\n"
     ]
    },
    {
     "name": "stderr",
     "output_type": "stream",
     "text": [
      "/dev/shm/pbs.3818094.datarmor0/ipykernel_51728/2776775329.py:47: RuntimeWarning: Mean of empty slice\n",
      "  HSML.append(np.nanmean(hsml))\n",
      "/dev/shm/pbs.3818094.datarmor0/ipykernel_51728/2776775329.py:54: RuntimeWarning: Mean of empty slice\n",
      "  HSML_CONFIDENT.append(np.nanmean(hsml_confident))\n"
     ]
    },
    {
     "name": "stdout",
     "output_type": "stream",
     "text": [
      "Progress: 51.8 % ----- Elapsed time: 13.0 m 11.0 s\n"
     ]
    },
    {
     "name": "stderr",
     "output_type": "stream",
     "text": [
      "/dev/shm/pbs.3818094.datarmor0/ipykernel_51728/2776775329.py:47: RuntimeWarning: Mean of empty slice\n",
      "  HSML.append(np.nanmean(hsml))\n",
      "/dev/shm/pbs.3818094.datarmor0/ipykernel_51728/2776775329.py:54: RuntimeWarning: Mean of empty slice\n",
      "  HSML_CONFIDENT.append(np.nanmean(hsml_confident))\n",
      "/dev/shm/pbs.3818094.datarmor0/ipykernel_51728/2776775329.py:47: RuntimeWarning: Mean of empty slice\n",
      "  HSML.append(np.nanmean(hsml))\n",
      "/dev/shm/pbs.3818094.datarmor0/ipykernel_51728/2776775329.py:54: RuntimeWarning: Mean of empty slice\n",
      "  HSML_CONFIDENT.append(np.nanmean(hsml_confident))\n"
     ]
    },
    {
     "name": "stdout",
     "output_type": "stream",
     "text": [
      "Progress: 52.46 % ----- Elapsed time: 13.0 m 18.0 s\n",
      "Progress: 52.79 % ----- Elapsed time: 13.0 m 26.0 s\n"
     ]
    },
    {
     "name": "stderr",
     "output_type": "stream",
     "text": [
      "/dev/shm/pbs.3818094.datarmor0/ipykernel_51728/2776775329.py:47: RuntimeWarning: Mean of empty slice\n",
      "  HSML.append(np.nanmean(hsml))\n",
      "/dev/shm/pbs.3818094.datarmor0/ipykernel_51728/2776775329.py:54: RuntimeWarning: Mean of empty slice\n",
      "  HSML_CONFIDENT.append(np.nanmean(hsml_confident))\n",
      "/dev/shm/pbs.3818094.datarmor0/ipykernel_51728/2776775329.py:47: RuntimeWarning: Mean of empty slice\n",
      "  HSML.append(np.nanmean(hsml))\n",
      "/dev/shm/pbs.3818094.datarmor0/ipykernel_51728/2776775329.py:54: RuntimeWarning: Mean of empty slice\n",
      "  HSML_CONFIDENT.append(np.nanmean(hsml_confident))\n",
      "/dev/shm/pbs.3818094.datarmor0/ipykernel_51728/2776775329.py:47: RuntimeWarning: Mean of empty slice\n",
      "  HSML.append(np.nanmean(hsml))\n",
      "/dev/shm/pbs.3818094.datarmor0/ipykernel_51728/2776775329.py:54: RuntimeWarning: Mean of empty slice\n",
      "  HSML_CONFIDENT.append(np.nanmean(hsml_confident))\n"
     ]
    },
    {
     "name": "stdout",
     "output_type": "stream",
     "text": [
      "Progress: 53.11 % ----- Elapsed time: 13.0 m 31.0 s\n",
      "Progress: 53.44 % ----- Elapsed time: 13.0 m 34.0 s\n"
     ]
    },
    {
     "name": "stderr",
     "output_type": "stream",
     "text": [
      "/dev/shm/pbs.3818094.datarmor0/ipykernel_51728/2776775329.py:116: RuntimeWarning: Mean of empty slice\n",
      "  MEAN_HS_SWOT.append(np.nanmean(hs_swot))\n"
     ]
    },
    {
     "name": "stdout",
     "output_type": "stream",
     "text": [
      "Progress: 53.77 % ----- Elapsed time: 13.0 m 40.0 s\n",
      "Progress: 54.1 % ----- Elapsed time: 14.0 m 23.0 s\n",
      "Progress: 54.43 % ----- Elapsed time: 14.0 m 41.0 s\n"
     ]
    },
    {
     "name": "stderr",
     "output_type": "stream",
     "text": [
      "/dev/shm/pbs.3818094.datarmor0/ipykernel_51728/2776775329.py:116: RuntimeWarning: Mean of empty slice\n",
      "  MEAN_HS_SWOT.append(np.nanmean(hs_swot))\n"
     ]
    },
    {
     "name": "stdout",
     "output_type": "stream",
     "text": [
      "Progress: 54.75 % ----- Elapsed time: 14.0 m 50.0 s\n",
      "Progress: 55.08 % ----- Elapsed time: 15.0 m 10.0 s\n",
      "Progress: 55.41 % ----- Elapsed time: 16.0 m 21.0 s\n",
      "Progress: 55.74 % ----- Elapsed time: 16.0 m 23.0 s\n",
      "Progress: 56.07 % ----- Elapsed time: 17.0 m 45.0 s\n"
     ]
    },
    {
     "name": "stderr",
     "output_type": "stream",
     "text": [
      "/dev/shm/pbs.3818094.datarmor0/ipykernel_51728/2776775329.py:47: RuntimeWarning: Mean of empty slice\n",
      "  HSML.append(np.nanmean(hsml))\n",
      "/dev/shm/pbs.3818094.datarmor0/ipykernel_51728/2776775329.py:54: RuntimeWarning: Mean of empty slice\n",
      "  HSML_CONFIDENT.append(np.nanmean(hsml_confident))\n",
      "/dev/shm/pbs.3818094.datarmor0/ipykernel_51728/2776775329.py:116: RuntimeWarning: Mean of empty slice\n",
      "  MEAN_HS_SWOT.append(np.nanmean(hs_swot))\n"
     ]
    },
    {
     "name": "stdout",
     "output_type": "stream",
     "text": [
      "Progress: 56.39 % ----- Elapsed time: 17.0 m 48.0 s\n"
     ]
    },
    {
     "name": "stderr",
     "output_type": "stream",
     "text": [
      "/dev/shm/pbs.3818094.datarmor0/ipykernel_51728/2776775329.py:47: RuntimeWarning: Mean of empty slice\n",
      "  HSML.append(np.nanmean(hsml))\n",
      "/dev/shm/pbs.3818094.datarmor0/ipykernel_51728/2776775329.py:54: RuntimeWarning: Mean of empty slice\n",
      "  HSML_CONFIDENT.append(np.nanmean(hsml_confident))\n"
     ]
    },
    {
     "name": "stdout",
     "output_type": "stream",
     "text": [
      "Progress: 56.72 % ----- Elapsed time: 18.0 m 9.0 s\n"
     ]
    },
    {
     "name": "stderr",
     "output_type": "stream",
     "text": [
      "/dev/shm/pbs.3818094.datarmor0/ipykernel_51728/2776775329.py:47: RuntimeWarning: Mean of empty slice\n",
      "  HSML.append(np.nanmean(hsml))\n",
      "/dev/shm/pbs.3818094.datarmor0/ipykernel_51728/2776775329.py:54: RuntimeWarning: Mean of empty slice\n",
      "  HSML_CONFIDENT.append(np.nanmean(hsml_confident))\n",
      "/dev/shm/pbs.3818094.datarmor0/ipykernel_51728/2776775329.py:47: RuntimeWarning: Mean of empty slice\n",
      "  HSML.append(np.nanmean(hsml))\n",
      "/dev/shm/pbs.3818094.datarmor0/ipykernel_51728/2776775329.py:54: RuntimeWarning: Mean of empty slice\n",
      "  HSML_CONFIDENT.append(np.nanmean(hsml_confident))\n",
      "/dev/shm/pbs.3818094.datarmor0/ipykernel_51728/2776775329.py:47: RuntimeWarning: Mean of empty slice\n",
      "  HSML.append(np.nanmean(hsml))\n",
      "/dev/shm/pbs.3818094.datarmor0/ipykernel_51728/2776775329.py:54: RuntimeWarning: Mean of empty slice\n",
      "  HSML_CONFIDENT.append(np.nanmean(hsml_confident))\n"
     ]
    },
    {
     "name": "stdout",
     "output_type": "stream",
     "text": [
      "Progress: 57.05 % ----- Elapsed time: 21.0 m 21.0 s\n",
      "Progress: 57.38 % ----- Elapsed time: 21.0 m 27.0 s\n",
      "Progress: 57.7 % ----- Elapsed time: 21.0 m 34.0 s\n"
     ]
    },
    {
     "name": "stderr",
     "output_type": "stream",
     "text": [
      "/dev/shm/pbs.3818094.datarmor0/ipykernel_51728/2776775329.py:47: RuntimeWarning: Mean of empty slice\n",
      "  HSML.append(np.nanmean(hsml))\n",
      "/dev/shm/pbs.3818094.datarmor0/ipykernel_51728/2776775329.py:54: RuntimeWarning: Mean of empty slice\n",
      "  HSML_CONFIDENT.append(np.nanmean(hsml_confident))\n"
     ]
    },
    {
     "name": "stdout",
     "output_type": "stream",
     "text": [
      "Progress: 58.03 % ----- Elapsed time: 24.0 m 20.0 s\n",
      "Progress: 58.36 % ----- Elapsed time: 24.0 m 24.0 s\n",
      "Progress: 58.69 % ----- Elapsed time: 24.0 m 28.0 s\n"
     ]
    },
    {
     "name": "stderr",
     "output_type": "stream",
     "text": [
      "/dev/shm/pbs.3818094.datarmor0/ipykernel_51728/2776775329.py:47: RuntimeWarning: Mean of empty slice\n",
      "  HSML.append(np.nanmean(hsml))\n",
      "/dev/shm/pbs.3818094.datarmor0/ipykernel_51728/2776775329.py:54: RuntimeWarning: Mean of empty slice\n",
      "  HSML_CONFIDENT.append(np.nanmean(hsml_confident))\n",
      "/dev/shm/pbs.3818094.datarmor0/ipykernel_51728/2776775329.py:47: RuntimeWarning: Mean of empty slice\n",
      "  HSML.append(np.nanmean(hsml))\n",
      "/dev/shm/pbs.3818094.datarmor0/ipykernel_51728/2776775329.py:54: RuntimeWarning: Mean of empty slice\n",
      "  HSML_CONFIDENT.append(np.nanmean(hsml_confident))\n",
      "/dev/shm/pbs.3818094.datarmor0/ipykernel_51728/2776775329.py:47: RuntimeWarning: Mean of empty slice\n",
      "  HSML.append(np.nanmean(hsml))\n",
      "/dev/shm/pbs.3818094.datarmor0/ipykernel_51728/2776775329.py:54: RuntimeWarning: Mean of empty slice\n",
      "  HSML_CONFIDENT.append(np.nanmean(hsml_confident))\n",
      "/dev/shm/pbs.3818094.datarmor0/ipykernel_51728/2776775329.py:47: RuntimeWarning: Mean of empty slice\n",
      "  HSML.append(np.nanmean(hsml))\n",
      "/dev/shm/pbs.3818094.datarmor0/ipykernel_51728/2776775329.py:54: RuntimeWarning: Mean of empty slice\n",
      "  HSML_CONFIDENT.append(np.nanmean(hsml_confident))\n",
      "/dev/shm/pbs.3818094.datarmor0/ipykernel_51728/2776775329.py:116: RuntimeWarning: Mean of empty slice\n",
      "  MEAN_HS_SWOT.append(np.nanmean(hs_swot))\n"
     ]
    },
    {
     "name": "stdout",
     "output_type": "stream",
     "text": [
      "Progress: 59.02 % ----- Elapsed time: 24.0 m 56.0 s\n",
      "Progress: 59.34 % ----- Elapsed time: 25.0 m 16.0 s\n"
     ]
    },
    {
     "name": "stderr",
     "output_type": "stream",
     "text": [
      "/dev/shm/pbs.3818094.datarmor0/ipykernel_51728/2776775329.py:47: RuntimeWarning: Mean of empty slice\n",
      "  HSML.append(np.nanmean(hsml))\n",
      "/dev/shm/pbs.3818094.datarmor0/ipykernel_51728/2776775329.py:54: RuntimeWarning: Mean of empty slice\n",
      "  HSML_CONFIDENT.append(np.nanmean(hsml_confident))\n",
      "/dev/shm/pbs.3818094.datarmor0/ipykernel_51728/2776775329.py:47: RuntimeWarning: Mean of empty slice\n",
      "  HSML.append(np.nanmean(hsml))\n",
      "/dev/shm/pbs.3818094.datarmor0/ipykernel_51728/2776775329.py:54: RuntimeWarning: Mean of empty slice\n",
      "  HSML_CONFIDENT.append(np.nanmean(hsml_confident))\n",
      "/dev/shm/pbs.3818094.datarmor0/ipykernel_51728/2776775329.py:47: RuntimeWarning: Mean of empty slice\n",
      "  HSML.append(np.nanmean(hsml))\n",
      "/dev/shm/pbs.3818094.datarmor0/ipykernel_51728/2776775329.py:54: RuntimeWarning: Mean of empty slice\n",
      "  HSML_CONFIDENT.append(np.nanmean(hsml_confident))\n"
     ]
    },
    {
     "name": "stdout",
     "output_type": "stream",
     "text": [
      "Progress: 60.0 % ----- Elapsed time: 25.0 m 35.0 s\n",
      "Progress: 60.33 % ----- Elapsed time: 25.0 m 38.0 s\n"
     ]
    },
    {
     "name": "stderr",
     "output_type": "stream",
     "text": [
      "/dev/shm/pbs.3818094.datarmor0/ipykernel_51728/2776775329.py:116: RuntimeWarning: Mean of empty slice\n",
      "  MEAN_HS_SWOT.append(np.nanmean(hs_swot))\n"
     ]
    },
    {
     "name": "stdout",
     "output_type": "stream",
     "text": [
      "Progress: 60.66 % ----- Elapsed time: 25.0 m 40.0 s\n",
      "Progress: 60.98 % ----- Elapsed time: 25.0 m 45.0 s\n",
      "Progress: 61.31 % ----- Elapsed time: 25.0 m 48.0 s\n"
     ]
    },
    {
     "name": "stderr",
     "output_type": "stream",
     "text": [
      "/dev/shm/pbs.3818094.datarmor0/ipykernel_51728/2776775329.py:116: RuntimeWarning: Mean of empty slice\n",
      "  MEAN_HS_SWOT.append(np.nanmean(hs_swot))\n"
     ]
    },
    {
     "name": "stdout",
     "output_type": "stream",
     "text": [
      "Progress: 61.64 % ----- Elapsed time: 25.0 m 55.0 s\n",
      "Progress: 61.97 % ----- Elapsed time: 26.0 m 1.0 s\n"
     ]
    },
    {
     "name": "stderr",
     "output_type": "stream",
     "text": [
      "/dev/shm/pbs.3818094.datarmor0/ipykernel_51728/2776775329.py:116: RuntimeWarning: Mean of empty slice\n",
      "  MEAN_HS_SWOT.append(np.nanmean(hs_swot))\n"
     ]
    },
    {
     "name": "stdout",
     "output_type": "stream",
     "text": [
      "Progress: 62.3 % ----- Elapsed time: 26.0 m 4.0 s\n",
      "Progress: 62.95 % ----- Elapsed time: 26.0 m 9.0 s\n",
      "Progress: 63.28 % ----- Elapsed time: 26.0 m 14.0 s\n"
     ]
    },
    {
     "name": "stderr",
     "output_type": "stream",
     "text": [
      "/dev/shm/pbs.3818094.datarmor0/ipykernel_51728/2776775329.py:116: RuntimeWarning: Mean of empty slice\n",
      "  MEAN_HS_SWOT.append(np.nanmean(hs_swot))\n"
     ]
    },
    {
     "name": "stdout",
     "output_type": "stream",
     "text": [
      "Progress: 63.61 % ----- Elapsed time: 26.0 m 17.0 s\n",
      "Progress: 64.26 % ----- Elapsed time: 26.0 m 22.0 s\n",
      "Progress: 64.59 % ----- Elapsed time: 26.0 m 26.0 s\n"
     ]
    },
    {
     "name": "stderr",
     "output_type": "stream",
     "text": [
      "/dev/shm/pbs.3818094.datarmor0/ipykernel_51728/2776775329.py:116: RuntimeWarning: Mean of empty slice\n",
      "  MEAN_HS_SWOT.append(np.nanmean(hs_swot))\n"
     ]
    },
    {
     "name": "stdout",
     "output_type": "stream",
     "text": [
      "Progress: 64.92 % ----- Elapsed time: 26.0 m 31.0 s\n",
      "Progress: 65.25 % ----- Elapsed time: 26.0 m 34.0 s\n",
      "Progress: 65.57 % ----- Elapsed time: 26.0 m 36.0 s\n",
      "Progress: 65.9 % ----- Elapsed time: 26.0 m 43.0 s\n",
      "Progress: 66.56 % ----- Elapsed time: 26.0 m 50.0 s\n",
      "Progress: 66.89 % ----- Elapsed time: 26.0 m 57.0 s\n"
     ]
    },
    {
     "name": "stderr",
     "output_type": "stream",
     "text": [
      "/dev/shm/pbs.3818094.datarmor0/ipykernel_51728/2776775329.py:116: RuntimeWarning: Mean of empty slice\n",
      "  MEAN_HS_SWOT.append(np.nanmean(hs_swot))\n"
     ]
    },
    {
     "name": "stdout",
     "output_type": "stream",
     "text": [
      "Progress: 67.21 % ----- Elapsed time: 27.0 m 1.0 s\n",
      "Progress: 67.87 % ----- Elapsed time: 27.0 m 12.0 s\n"
     ]
    },
    {
     "name": "stderr",
     "output_type": "stream",
     "text": [
      "/dev/shm/pbs.3818094.datarmor0/ipykernel_51728/2776775329.py:116: RuntimeWarning: Mean of empty slice\n",
      "  MEAN_HS_SWOT.append(np.nanmean(hs_swot))\n"
     ]
    },
    {
     "name": "stdout",
     "output_type": "stream",
     "text": [
      "Progress: 68.2 % ----- Elapsed time: 27.0 m 15.0 s\n",
      "Progress: 68.52 % ----- Elapsed time: 27.0 m 26.0 s\n",
      "Progress: 68.85 % ----- Elapsed time: 27.0 m 28.0 s\n",
      "Progress: 69.18 % ----- Elapsed time: 27.0 m 34.0 s\n",
      "Progress: 69.51 % ----- Elapsed time: 27.0 m 44.0 s\n"
     ]
    },
    {
     "name": "stderr",
     "output_type": "stream",
     "text": [
      "/dev/shm/pbs.3818094.datarmor0/ipykernel_51728/2776775329.py:47: RuntimeWarning: Mean of empty slice\n",
      "  HSML.append(np.nanmean(hsml))\n",
      "/dev/shm/pbs.3818094.datarmor0/ipykernel_51728/2776775329.py:54: RuntimeWarning: Mean of empty slice\n",
      "  HSML_CONFIDENT.append(np.nanmean(hsml_confident))\n",
      "/dev/shm/pbs.3818094.datarmor0/ipykernel_51728/2776775329.py:116: RuntimeWarning: Mean of empty slice\n",
      "  MEAN_HS_SWOT.append(np.nanmean(hs_swot))\n"
     ]
    },
    {
     "name": "stdout",
     "output_type": "stream",
     "text": [
      "Progress: 69.84 % ----- Elapsed time: 27.0 m 49.0 s\n",
      "Progress: 70.16 % ----- Elapsed time: 28.0 m 1.0 s\n"
     ]
    },
    {
     "name": "stderr",
     "output_type": "stream",
     "text": [
      "/dev/shm/pbs.3818094.datarmor0/ipykernel_51728/2776775329.py:116: RuntimeWarning: Mean of empty slice\n",
      "  MEAN_HS_SWOT.append(np.nanmean(hs_swot))\n"
     ]
    },
    {
     "name": "stdout",
     "output_type": "stream",
     "text": [
      "Progress: 71.15 % ----- Elapsed time: 28.0 m 14.0 s\n"
     ]
    },
    {
     "name": "stderr",
     "output_type": "stream",
     "text": [
      "/dev/shm/pbs.3818094.datarmor0/ipykernel_51728/2776775329.py:47: RuntimeWarning: Mean of empty slice\n",
      "  HSML.append(np.nanmean(hsml))\n",
      "/dev/shm/pbs.3818094.datarmor0/ipykernel_51728/2776775329.py:54: RuntimeWarning: Mean of empty slice\n",
      "  HSML_CONFIDENT.append(np.nanmean(hsml_confident))\n"
     ]
    },
    {
     "name": "stdout",
     "output_type": "stream",
     "text": [
      "Progress: 71.48 % ----- Elapsed time: 28.0 m 18.0 s\n",
      "Progress: 71.8 % ----- Elapsed time: 28.0 m 27.0 s\n",
      "Progress: 72.13 % ----- Elapsed time: 28.0 m 31.0 s\n",
      "Progress: 72.46 % ----- Elapsed time: 28.0 m 35.0 s\n"
     ]
    },
    {
     "name": "stderr",
     "output_type": "stream",
     "text": [
      "/dev/shm/pbs.3818094.datarmor0/ipykernel_51728/2776775329.py:47: RuntimeWarning: Mean of empty slice\n",
      "  HSML.append(np.nanmean(hsml))\n",
      "/dev/shm/pbs.3818094.datarmor0/ipykernel_51728/2776775329.py:54: RuntimeWarning: Mean of empty slice\n",
      "  HSML_CONFIDENT.append(np.nanmean(hsml_confident))\n",
      "/dev/shm/pbs.3818094.datarmor0/ipykernel_51728/2776775329.py:47: RuntimeWarning: Mean of empty slice\n",
      "  HSML.append(np.nanmean(hsml))\n",
      "/dev/shm/pbs.3818094.datarmor0/ipykernel_51728/2776775329.py:54: RuntimeWarning: Mean of empty slice\n",
      "  HSML_CONFIDENT.append(np.nanmean(hsml_confident))\n",
      "/dev/shm/pbs.3818094.datarmor0/ipykernel_51728/2776775329.py:47: RuntimeWarning: Mean of empty slice\n",
      "  HSML.append(np.nanmean(hsml))\n",
      "/dev/shm/pbs.3818094.datarmor0/ipykernel_51728/2776775329.py:54: RuntimeWarning: Mean of empty slice\n",
      "  HSML_CONFIDENT.append(np.nanmean(hsml_confident))\n"
     ]
    },
    {
     "name": "stdout",
     "output_type": "stream",
     "text": [
      "Progress: 72.79 % ----- Elapsed time: 28.0 m 49.0 s\n",
      "Progress: 73.11 % ----- Elapsed time: 28.0 m 58.0 s\n"
     ]
    },
    {
     "name": "stderr",
     "output_type": "stream",
     "text": [
      "/dev/shm/pbs.3818094.datarmor0/ipykernel_51728/2776775329.py:47: RuntimeWarning: Mean of empty slice\n",
      "  HSML.append(np.nanmean(hsml))\n",
      "/dev/shm/pbs.3818094.datarmor0/ipykernel_51728/2776775329.py:54: RuntimeWarning: Mean of empty slice\n",
      "  HSML_CONFIDENT.append(np.nanmean(hsml_confident))\n",
      "/dev/shm/pbs.3818094.datarmor0/ipykernel_51728/2776775329.py:116: RuntimeWarning: Mean of empty slice\n",
      "  MEAN_HS_SWOT.append(np.nanmean(hs_swot))\n"
     ]
    },
    {
     "name": "stdout",
     "output_type": "stream",
     "text": [
      "Progress: 73.44 % ----- Elapsed time: 29.0 m 7.0 s\n",
      "Progress: 73.77 % ----- Elapsed time: 29.0 m 9.0 s\n"
     ]
    },
    {
     "name": "stderr",
     "output_type": "stream",
     "text": [
      "/dev/shm/pbs.3818094.datarmor0/ipykernel_51728/2776775329.py:47: RuntimeWarning: Mean of empty slice\n",
      "  HSML.append(np.nanmean(hsml))\n",
      "/dev/shm/pbs.3818094.datarmor0/ipykernel_51728/2776775329.py:54: RuntimeWarning: Mean of empty slice\n",
      "  HSML_CONFIDENT.append(np.nanmean(hsml_confident))\n",
      "/dev/shm/pbs.3818094.datarmor0/ipykernel_51728/2776775329.py:116: RuntimeWarning: Mean of empty slice\n",
      "  MEAN_HS_SWOT.append(np.nanmean(hs_swot))\n"
     ]
    },
    {
     "name": "stdout",
     "output_type": "stream",
     "text": [
      "Progress: 74.1 % ----- Elapsed time: 29.0 m 12.0 s\n"
     ]
    },
    {
     "name": "stderr",
     "output_type": "stream",
     "text": [
      "/dev/shm/pbs.3818094.datarmor0/ipykernel_51728/2776775329.py:116: RuntimeWarning: Mean of empty slice\n",
      "  MEAN_HS_SWOT.append(np.nanmean(hs_swot))\n"
     ]
    },
    {
     "name": "stdout",
     "output_type": "stream",
     "text": [
      "Progress: 74.43 % ----- Elapsed time: 29.0 m 20.0 s\n",
      "Progress: 74.75 % ----- Elapsed time: 29.0 m 33.0 s\n"
     ]
    },
    {
     "name": "stderr",
     "output_type": "stream",
     "text": [
      "/dev/shm/pbs.3818094.datarmor0/ipykernel_51728/2776775329.py:116: RuntimeWarning: Mean of empty slice\n",
      "  MEAN_HS_SWOT.append(np.nanmean(hs_swot))\n"
     ]
    },
    {
     "name": "stdout",
     "output_type": "stream",
     "text": [
      "Progress: 75.08 % ----- Elapsed time: 29.0 m 38.0 s\n",
      "Progress: 75.41 % ----- Elapsed time: 29.0 m 47.0 s\n"
     ]
    },
    {
     "name": "stderr",
     "output_type": "stream",
     "text": [
      "/dev/shm/pbs.3818094.datarmor0/ipykernel_51728/2776775329.py:116: RuntimeWarning: Mean of empty slice\n",
      "  MEAN_HS_SWOT.append(np.nanmean(hs_swot))\n",
      "/dev/shm/pbs.3818094.datarmor0/ipykernel_51728/2776775329.py:47: RuntimeWarning: Mean of empty slice\n",
      "  HSML.append(np.nanmean(hsml))\n",
      "/dev/shm/pbs.3818094.datarmor0/ipykernel_51728/2776775329.py:54: RuntimeWarning: Mean of empty slice\n",
      "  HSML_CONFIDENT.append(np.nanmean(hsml_confident))\n",
      "/dev/shm/pbs.3818094.datarmor0/ipykernel_51728/2776775329.py:47: RuntimeWarning: Mean of empty slice\n",
      "  HSML.append(np.nanmean(hsml))\n",
      "/dev/shm/pbs.3818094.datarmor0/ipykernel_51728/2776775329.py:54: RuntimeWarning: Mean of empty slice\n",
      "  HSML_CONFIDENT.append(np.nanmean(hsml_confident))\n"
     ]
    },
    {
     "name": "stdout",
     "output_type": "stream",
     "text": [
      "Progress: 75.74 % ----- Elapsed time: 29.0 m 51.0 s\n",
      "Progress: 76.07 % ----- Elapsed time: 29.0 m 57.0 s\n",
      "Progress: 76.39 % ----- Elapsed time: 30.0 m 18.0 s\n",
      "Progress: 77.05 % ----- Elapsed time: 30.0 m 27.0 s\n"
     ]
    },
    {
     "name": "stderr",
     "output_type": "stream",
     "text": [
      "/dev/shm/pbs.3818094.datarmor0/ipykernel_51728/2776775329.py:47: RuntimeWarning: Mean of empty slice\n",
      "  HSML.append(np.nanmean(hsml))\n",
      "/dev/shm/pbs.3818094.datarmor0/ipykernel_51728/2776775329.py:54: RuntimeWarning: Mean of empty slice\n",
      "  HSML_CONFIDENT.append(np.nanmean(hsml_confident))\n",
      "/dev/shm/pbs.3818094.datarmor0/ipykernel_51728/2776775329.py:47: RuntimeWarning: Mean of empty slice\n",
      "  HSML.append(np.nanmean(hsml))\n",
      "/dev/shm/pbs.3818094.datarmor0/ipykernel_51728/2776775329.py:54: RuntimeWarning: Mean of empty slice\n",
      "  HSML_CONFIDENT.append(np.nanmean(hsml_confident))\n",
      "/dev/shm/pbs.3818094.datarmor0/ipykernel_51728/2776775329.py:47: RuntimeWarning: Mean of empty slice\n",
      "  HSML.append(np.nanmean(hsml))\n",
      "/dev/shm/pbs.3818094.datarmor0/ipykernel_51728/2776775329.py:54: RuntimeWarning: Mean of empty slice\n",
      "  HSML_CONFIDENT.append(np.nanmean(hsml_confident))\n",
      "/dev/shm/pbs.3818094.datarmor0/ipykernel_51728/2776775329.py:47: RuntimeWarning: Mean of empty slice\n",
      "  HSML.append(np.nanmean(hsml))\n",
      "/dev/shm/pbs.3818094.datarmor0/ipykernel_51728/2776775329.py:54: RuntimeWarning: Mean of empty slice\n",
      "  HSML_CONFIDENT.append(np.nanmean(hsml_confident))\n"
     ]
    },
    {
     "name": "stdout",
     "output_type": "stream",
     "text": [
      "Progress: 77.7 % ----- Elapsed time: 30.0 m 39.0 s\n"
     ]
    },
    {
     "name": "stderr",
     "output_type": "stream",
     "text": [
      "/dev/shm/pbs.3818094.datarmor0/ipykernel_51728/2776775329.py:116: RuntimeWarning: Mean of empty slice\n",
      "  MEAN_HS_SWOT.append(np.nanmean(hs_swot))\n"
     ]
    },
    {
     "name": "stdout",
     "output_type": "stream",
     "text": [
      "Progress: 78.03 % ----- Elapsed time: 30.0 m 45.0 s\n",
      "Progress: 78.36 % ----- Elapsed time: 30.0 m 51.0 s\n"
     ]
    },
    {
     "name": "stderr",
     "output_type": "stream",
     "text": [
      "/dev/shm/pbs.3818094.datarmor0/ipykernel_51728/2776775329.py:116: RuntimeWarning: Mean of empty slice\n",
      "  MEAN_HS_SWOT.append(np.nanmean(hs_swot))\n"
     ]
    },
    {
     "name": "stdout",
     "output_type": "stream",
     "text": [
      "Progress: 79.02 % ----- Elapsed time: 31.0 m 2.0 s\n",
      "Progress: 79.67 % ----- Elapsed time: 31.0 m 10.0 s\n",
      "Progress: 80.33 % ----- Elapsed time: 31.0 m 21.0 s\n",
      "Progress: 80.98 % ----- Elapsed time: 31.0 m 27.0 s\n"
     ]
    },
    {
     "name": "stderr",
     "output_type": "stream",
     "text": [
      "/dev/shm/pbs.3818094.datarmor0/ipykernel_51728/2776775329.py:47: RuntimeWarning: Mean of empty slice\n",
      "  HSML.append(np.nanmean(hsml))\n",
      "/dev/shm/pbs.3818094.datarmor0/ipykernel_51728/2776775329.py:54: RuntimeWarning: Mean of empty slice\n",
      "  HSML_CONFIDENT.append(np.nanmean(hsml_confident))\n",
      "/dev/shm/pbs.3818094.datarmor0/ipykernel_51728/2776775329.py:47: RuntimeWarning: Mean of empty slice\n",
      "  HSML.append(np.nanmean(hsml))\n",
      "/dev/shm/pbs.3818094.datarmor0/ipykernel_51728/2776775329.py:54: RuntimeWarning: Mean of empty slice\n",
      "  HSML_CONFIDENT.append(np.nanmean(hsml_confident))\n"
     ]
    },
    {
     "name": "stdout",
     "output_type": "stream",
     "text": [
      "Progress: 81.31 % ----- Elapsed time: 31.0 m 45.0 s\n",
      "Progress: 81.64 % ----- Elapsed time: 31.0 m 55.0 s\n"
     ]
    },
    {
     "name": "stderr",
     "output_type": "stream",
     "text": [
      "/home1/datahome/msimonne/scripts/Codes_PFE_Maturin/SWOT_tools.py:245: RuntimeWarning: All-NaN slice encountered\n",
      "  t_ini_swot = np.nanmin(ds_swot.time.values)\n"
     ]
    },
    {
     "name": "stdout",
     "output_type": "stream",
     "text": [
      "Progress: 82.3 % ----- Elapsed time: 32.0 m 2.0 s\n",
      "Progress: 82.62 % ----- Elapsed time: 32.0 m 28.0 s\n",
      "Progress: 82.95 % ----- Elapsed time: 32.0 m 32.0 s\n",
      "Progress: 83.28 % ----- Elapsed time: 32.0 m 37.0 s\n",
      "Progress: 83.61 % ----- Elapsed time: 32.0 m 40.0 s\n"
     ]
    },
    {
     "name": "stderr",
     "output_type": "stream",
     "text": [
      "/dev/shm/pbs.3818094.datarmor0/ipykernel_51728/2776775329.py:47: RuntimeWarning: Mean of empty slice\n",
      "  HSML.append(np.nanmean(hsml))\n",
      "/dev/shm/pbs.3818094.datarmor0/ipykernel_51728/2776775329.py:54: RuntimeWarning: Mean of empty slice\n",
      "  HSML_CONFIDENT.append(np.nanmean(hsml_confident))\n",
      "/dev/shm/pbs.3818094.datarmor0/ipykernel_51728/2776775329.py:47: RuntimeWarning: Mean of empty slice\n",
      "  HSML.append(np.nanmean(hsml))\n",
      "/dev/shm/pbs.3818094.datarmor0/ipykernel_51728/2776775329.py:54: RuntimeWarning: Mean of empty slice\n",
      "  HSML_CONFIDENT.append(np.nanmean(hsml_confident))\n"
     ]
    },
    {
     "name": "stdout",
     "output_type": "stream",
     "text": [
      "Progress: 83.93 % ----- Elapsed time: 32.0 m 43.0 s\n",
      "Progress: 84.59 % ----- Elapsed time: 32.0 m 49.0 s\n",
      "Progress: 84.92 % ----- Elapsed time: 32.0 m 52.0 s\n"
     ]
    },
    {
     "name": "stderr",
     "output_type": "stream",
     "text": [
      "/dev/shm/pbs.3818094.datarmor0/ipykernel_51728/2776775329.py:116: RuntimeWarning: Mean of empty slice\n",
      "  MEAN_HS_SWOT.append(np.nanmean(hs_swot))\n",
      "/dev/shm/pbs.3818094.datarmor0/ipykernel_51728/2776775329.py:47: RuntimeWarning: Mean of empty slice\n",
      "  HSML.append(np.nanmean(hsml))\n",
      "/dev/shm/pbs.3818094.datarmor0/ipykernel_51728/2776775329.py:54: RuntimeWarning: Mean of empty slice\n",
      "  HSML_CONFIDENT.append(np.nanmean(hsml_confident))\n"
     ]
    },
    {
     "name": "stdout",
     "output_type": "stream",
     "text": [
      "Progress: 85.25 % ----- Elapsed time: 32.0 m 57.0 s\n"
     ]
    },
    {
     "name": "stderr",
     "output_type": "stream",
     "text": [
      "/dev/shm/pbs.3818094.datarmor0/ipykernel_51728/2776775329.py:47: RuntimeWarning: Mean of empty slice\n",
      "  HSML.append(np.nanmean(hsml))\n",
      "/dev/shm/pbs.3818094.datarmor0/ipykernel_51728/2776775329.py:54: RuntimeWarning: Mean of empty slice\n",
      "  HSML_CONFIDENT.append(np.nanmean(hsml_confident))\n"
     ]
    },
    {
     "name": "stdout",
     "output_type": "stream",
     "text": [
      "Progress: 85.9 % ----- Elapsed time: 33.0 m 3.0 s\n",
      "Progress: 86.23 % ----- Elapsed time: 33.0 m 11.0 s\n",
      "Progress: 86.89 % ----- Elapsed time: 33.0 m 22.0 s\n",
      "Progress: 87.21 % ----- Elapsed time: 33.0 m 28.0 s\n",
      "Progress: 87.54 % ----- Elapsed time: 33.0 m 31.0 s\n"
     ]
    },
    {
     "name": "stderr",
     "output_type": "stream",
     "text": [
      "/dev/shm/pbs.3818094.datarmor0/ipykernel_51728/2776775329.py:47: RuntimeWarning: Mean of empty slice\n",
      "  HSML.append(np.nanmean(hsml))\n",
      "/dev/shm/pbs.3818094.datarmor0/ipykernel_51728/2776775329.py:54: RuntimeWarning: Mean of empty slice\n",
      "  HSML_CONFIDENT.append(np.nanmean(hsml_confident))\n",
      "/dev/shm/pbs.3818094.datarmor0/ipykernel_51728/2776775329.py:116: RuntimeWarning: Mean of empty slice\n",
      "  MEAN_HS_SWOT.append(np.nanmean(hs_swot))\n"
     ]
    },
    {
     "name": "stdout",
     "output_type": "stream",
     "text": [
      "Progress: 87.87 % ----- Elapsed time: 33.0 m 35.0 s\n"
     ]
    },
    {
     "name": "stderr",
     "output_type": "stream",
     "text": [
      "/dev/shm/pbs.3818094.datarmor0/ipykernel_51728/2776775329.py:47: RuntimeWarning: Mean of empty slice\n",
      "  HSML.append(np.nanmean(hsml))\n",
      "/dev/shm/pbs.3818094.datarmor0/ipykernel_51728/2776775329.py:54: RuntimeWarning: Mean of empty slice\n",
      "  HSML_CONFIDENT.append(np.nanmean(hsml_confident))\n"
     ]
    },
    {
     "name": "stdout",
     "output_type": "stream",
     "text": [
      "Progress: 88.2 % ----- Elapsed time: 33.0 m 41.0 s\n",
      "Progress: 88.52 % ----- Elapsed time: 33.0 m 50.0 s\n",
      "Progress: 88.85 % ----- Elapsed time: 33.0 m 59.0 s\n",
      "Progress: 89.18 % ----- Elapsed time: 34.0 m 2.0 s\n"
     ]
    },
    {
     "name": "stderr",
     "output_type": "stream",
     "text": [
      "/dev/shm/pbs.3818094.datarmor0/ipykernel_51728/2776775329.py:116: RuntimeWarning: Mean of empty slice\n",
      "  MEAN_HS_SWOT.append(np.nanmean(hs_swot))\n"
     ]
    },
    {
     "name": "stdout",
     "output_type": "stream",
     "text": [
      "Progress: 89.51 % ----- Elapsed time: 34.0 m 4.0 s\n"
     ]
    },
    {
     "name": "stderr",
     "output_type": "stream",
     "text": [
      "/dev/shm/pbs.3818094.datarmor0/ipykernel_51728/2776775329.py:47: RuntimeWarning: Mean of empty slice\n",
      "  HSML.append(np.nanmean(hsml))\n",
      "/dev/shm/pbs.3818094.datarmor0/ipykernel_51728/2776775329.py:54: RuntimeWarning: Mean of empty slice\n",
      "  HSML_CONFIDENT.append(np.nanmean(hsml_confident))\n"
     ]
    },
    {
     "name": "stdout",
     "output_type": "stream",
     "text": [
      "Progress: 90.16 % ----- Elapsed time: 34.0 m 19.0 s\n",
      "Progress: 90.49 % ----- Elapsed time: 34.0 m 23.0 s\n"
     ]
    },
    {
     "name": "stderr",
     "output_type": "stream",
     "text": [
      "/dev/shm/pbs.3818094.datarmor0/ipykernel_51728/2776775329.py:47: RuntimeWarning: Mean of empty slice\n",
      "  HSML.append(np.nanmean(hsml))\n",
      "/dev/shm/pbs.3818094.datarmor0/ipykernel_51728/2776775329.py:54: RuntimeWarning: Mean of empty slice\n",
      "  HSML_CONFIDENT.append(np.nanmean(hsml_confident))\n"
     ]
    },
    {
     "name": "stdout",
     "output_type": "stream",
     "text": [
      "Progress: 90.82 % ----- Elapsed time: 34.0 m 27.0 s\n",
      "Progress: 91.15 % ----- Elapsed time: 34.0 m 34.0 s\n"
     ]
    },
    {
     "name": "stderr",
     "output_type": "stream",
     "text": [
      "/dev/shm/pbs.3818094.datarmor0/ipykernel_51728/2776775329.py:47: RuntimeWarning: Mean of empty slice\n",
      "  HSML.append(np.nanmean(hsml))\n",
      "/dev/shm/pbs.3818094.datarmor0/ipykernel_51728/2776775329.py:54: RuntimeWarning: Mean of empty slice\n",
      "  HSML_CONFIDENT.append(np.nanmean(hsml_confident))\n",
      "/dev/shm/pbs.3818094.datarmor0/ipykernel_51728/2776775329.py:47: RuntimeWarning: Mean of empty slice\n",
      "  HSML.append(np.nanmean(hsml))\n",
      "/dev/shm/pbs.3818094.datarmor0/ipykernel_51728/2776775329.py:54: RuntimeWarning: Mean of empty slice\n",
      "  HSML_CONFIDENT.append(np.nanmean(hsml_confident))\n"
     ]
    },
    {
     "name": "stdout",
     "output_type": "stream",
     "text": [
      "Progress: 91.8 % ----- Elapsed time: 34.0 m 43.0 s\n"
     ]
    },
    {
     "name": "stderr",
     "output_type": "stream",
     "text": [
      "/dev/shm/pbs.3818094.datarmor0/ipykernel_51728/2776775329.py:116: RuntimeWarning: Mean of empty slice\n",
      "  MEAN_HS_SWOT.append(np.nanmean(hs_swot))\n"
     ]
    },
    {
     "name": "stdout",
     "output_type": "stream",
     "text": [
      "Progress: 92.46 % ----- Elapsed time: 34.0 m 48.0 s\n",
      "Progress: 92.79 % ----- Elapsed time: 34.0 m 52.0 s\n",
      "Progress: 93.11 % ----- Elapsed time: 34.0 m 56.0 s\n",
      "Progress: 93.77 % ----- Elapsed time: 35.0 m 1.0 s\n",
      "Progress: 94.1 % ----- Elapsed time: 35.0 m 5.0 s\n",
      "Progress: 94.43 % ----- Elapsed time: 35.0 m 8.0 s\n"
     ]
    },
    {
     "name": "stderr",
     "output_type": "stream",
     "text": [
      "/dev/shm/pbs.3818094.datarmor0/ipykernel_51728/2776775329.py:116: RuntimeWarning: Mean of empty slice\n",
      "  MEAN_HS_SWOT.append(np.nanmean(hs_swot))\n"
     ]
    },
    {
     "name": "stdout",
     "output_type": "stream",
     "text": [
      "Progress: 95.08 % ----- Elapsed time: 35.0 m 12.0 s\n",
      "Progress: 95.41 % ----- Elapsed time: 35.0 m 15.0 s\n"
     ]
    },
    {
     "name": "stderr",
     "output_type": "stream",
     "text": [
      "/home1/datahome/msimonne/scripts/Codes_PFE_Maturin/SWOT_tools.py:245: RuntimeWarning: All-NaN slice encountered\n",
      "  t_ini_swot = np.nanmin(ds_swot.time.values)\n"
     ]
    },
    {
     "name": "stdout",
     "output_type": "stream",
     "text": [
      "Progress: 96.07 % ----- Elapsed time: 35.0 m 22.0 s\n",
      "Progress: 96.39 % ----- Elapsed time: 35.0 m 25.0 s\n",
      "Progress: 97.38 % ----- Elapsed time: 35.0 m 34.0 s\n",
      "Progress: 97.7 % ----- Elapsed time: 35.0 m 36.0 s\n",
      "Progress: 98.03 % ----- Elapsed time: 35.0 m 40.0 s\n",
      "Progress: 98.36 % ----- Elapsed time: 35.0 m 44.0 s\n",
      "Progress: 98.69 % ----- Elapsed time: 35.0 m 48.0 s\n",
      "Progress: 99.02 % ----- Elapsed time: 35.0 m 53.0 s\n",
      "Progress: 99.67 % ----- Elapsed time: 35.0 m 57.0 s\n"
     ]
    }
   ],
   "source": [
    "swot_unique_file_path = np.unique(df_coloc[\"swot_file\"])\n",
    "\n",
    "MEAN_HSML = []\n",
    "MEAN_HSML_CONFIDENT = []\n",
    "MEAN_HS_SWOT = []\n",
    "\n",
    "df_hs = pd.DataFrame({\"hs_swot_on_iw\": [],\n",
    "                      \"hsml_iw\": [], # \"hsml_confident_iw\": [],\n",
    "                      \"conf_iw\": [],\n",
    "                      \"swot_file\": [],\n",
    "                      \"iw_file\": [],\n",
    "                      \"lon\":[],\n",
    "                      \"lat\":[],\n",
    "                      \"lon_map_min\": [],\n",
    "                      \"lon_map_max\": [],\n",
    "                      \"lat_map_min\": [],\n",
    "                      \"lat_map_max\": []})\n",
    "\n",
    "N = len(swot_unique_file_path)\n",
    "t0 = time()\n",
    "\n",
    "\n",
    "for i, swot_file_path in enumerate(swot_unique_file_path):\n",
    "    df_swot_file_i = df_coloc.loc[df_coloc[\"swot_file\"] == swot_file_path]\n",
    "\n",
    "    lon_map_min, lon_map_max = 180, -180 # valeurs extrêmes exprès pour que ça se mette bien\n",
    "    lat_map_min, lat_map_max = 90, -90\n",
    "\n",
    "\n",
    "    HSML = [] \n",
    "    HSML_CONFIDENT = []\n",
    "    for iw_file in df_swot_file_i[\"iw_file\"]:\n",
    "        ds = xr.open_dataset(iw_file, group='intraburst')\n",
    "        \n",
    "        lon, lat = ds.variables[\"longitude\"].values, ds.variables[\"latitude\"].values\n",
    "        \n",
    "        if np.nanmin(lon) < lon_map_min:\n",
    "            lon_map_min = np.nanmin(lon)\n",
    "        if np.nanmax(lon) > lon_map_max:\n",
    "            lon_map_max = np.nanmax(lon)\n",
    "        if np.nanmin(lat) < lat_map_min:\n",
    "            lat_map_min = np.nanmin(lat)\n",
    "        if np.nanmax(lat) > lat_map_max:\n",
    "            lat_map_max = np.nanmax(lat)\n",
    "        \n",
    "        hsml = ds.variables[\"hs_most_likely\"].values\n",
    "        HSML.append(np.nanmean(hsml))\n",
    "\n",
    "        hs_conf = ds.variables[\"hs_conf\"].values\n",
    "        conf_rate_min = -1\n",
    "        mask_confident = hs_conf > conf_rate_min # hs_conf [-1,1] so 0 is 50%-50%, -1 is 100 % (but then we can filter later)\n",
    "        hsml_confident = np.ones(hsml.shape)*np.nan\n",
    "        hsml_confident[mask_confident] = hsml[mask_confident]\n",
    "        HSML_CONFIDENT.append(np.nanmean(hsml_confident))\n",
    "\n",
    "    MEAN_HSML.append(np.nanmean(HSML))\n",
    "    MEAN_HSML_CONFIDENT.append(np.nanmean(HSML_CONFIDENT))\n",
    "    \n",
    "    ####################\n",
    "    ### LOADING SWOT ###\n",
    "    ####################\n",
    "    \n",
    "    ### Launching ###\n",
    "    ds_swot = xr.open_dataset(swot_file_path)\n",
    "    try:\n",
    "        ds_swot, t_ini_swot_formatted, t_end_swot_formatted = st.format_ds_swot(ds_swot, lon_map_min, lon_map_max, lat_map_min, lat_map_max, untrustable_hs=40, kernel_size_nan=1, step_to_crop_at_edges=2)\n",
    "    except AttributeError: # ça arrive quand le fichier swot est corrompu et qu'il y a des nan partout\n",
    "        MEAN_HS_SWOT.append(np.nan)\n",
    "        continue # on va au swot file d'après\n",
    "    except IndexError:\n",
    "        continue\n",
    "\n",
    "    #print(f\"lon_map_min = {lon_map_min}; lon_map_max = {lon_map_max}; lat_map_min = {lat_map_min}, lat_map_max = {lat_map_max}\")\n",
    "    lon_swot = ds_swot.longitude.values\n",
    "    lat_swot = ds_swot.latitude.values\n",
    "    hs_swot = ds_swot.swh_karin.values\n",
    "\n",
    "    ### Maintenant on interpole\n",
    "    points = np.concatenate((lon_swot.flatten().reshape(-1,1), lat_swot.flatten().reshape(-1,1)),axis=1) # shape (n, 2): coordonnées de SWOT \n",
    "\n",
    "    for iw_file in df_swot_file_i[\"iw_file\"]:\n",
    "        ds = xr.open_dataset(iw_file, group='intraburst')\n",
    "        # On récupère la grille lon, lat de l'iw\n",
    "        x_grid, y_grid = ds.variables[\"longitude\"].values, ds.variables[\"latitude\"].values\n",
    "\n",
    "        #interpolated_values_on_grid = griddata(points, values, (grid_x, grid_y), method='linear') # ligne de code pour se rappeler comment ça marche\n",
    "        hs_swot_on_iw = griddata(points, hs_swot.flatten(), (x_grid, y_grid), method='linear')\n",
    "\n",
    "        hsml = ds.variables[\"hs_most_likely\"].values\n",
    "\n",
    "        hs_conf = ds.variables[\"hs_conf\"].values\n",
    "        conf_rate_min = -1\n",
    "        mask_confident = hs_conf > conf_rate_min # hs_conf [-1,1] so 0 is 50%-50%\n",
    "        hsml_confident = np.ones(hsml.shape)*np.nan\n",
    "        hsml_confident[mask_confident] = hsml[mask_confident]\n",
    "\n",
    "        idx_no_nan = np.where(~np.isnan(hs_swot_on_iw) & ~np.isnan(hsml_confident))  # e.g. tuple (66, 2) (2 pour x, y)\n",
    "\n",
    "        \n",
    "        df_hs_i = pd.DataFrame({\"hs_swot_on_iw\": hs_swot_on_iw[idx_no_nan].flatten(), # e.g. shape (66,)\n",
    "                                \"hsml_iw\": hsml[idx_no_nan].flatten(), # e.g. shape (66,)  \"hsml_confident_iw\": hsml_confident[idx_no_nan].flatten(), # e.g. shape (66,)\n",
    "                                \"conf_iw\": hs_conf[idx_no_nan].flatten(),\n",
    "                                \"swot_file\": [swot_file_path for k in range(idx_no_nan[0].shape[0])], # e.g. len (66,)\n",
    "                                \"iw_file\": [iw_file for k in range(idx_no_nan[0].shape[0])],\n",
    "                                \"lon\": x_grid[idx_no_nan].flatten(),\n",
    "                                \"lat\": y_grid[idx_no_nan].flatten(),\n",
    "                                \"lon_map_min\": [lon_map_min for k in range(idx_no_nan[0].shape[0])],\n",
    "                                \"lon_map_max\": [lon_map_max for k in range(idx_no_nan[0].shape[0])],\n",
    "                                \"lat_map_min\": [lat_map_min for k in range(idx_no_nan[0].shape[0])],\n",
    "                                \"lat_map_max\": [lat_map_max for k in range(idx_no_nan[0].shape[0])]})\n",
    "                               \n",
    "                               \n",
    "        if not df_hs_i.empty:\n",
    "            df_hs = pd.concat((df_hs, df_hs_i))\n",
    "    \n",
    "    MEAN_HS_SWOT.append(np.nanmean(hs_swot))\n",
    "    print(f\"Progress: {round(100*i/N,2)} % ----- Elapsed time: {(time() - t0)//60} m {round((time() - t0)%60,0)} s\")\n",
    "    \n",
    "\n",
    "df_hs.to_csv(\"G_df/df_hs_with_iw_files.csv\")\n"
   ]
  },
  {
   "cell_type": "code",
   "execution_count": 6,
   "id": "ff7e2db1-6fef-41c1-a721-0957295b930a",
   "metadata": {},
   "outputs": [],
   "source": []
  }
 ],
 "metadata": {
  "kernelspec": {
   "display_name": "env_matu",
   "language": "python",
   "name": "env_matu"
  },
  "language_info": {
   "codemirror_mode": {
    "name": "ipython",
    "version": 3
   },
   "file_extension": ".py",
   "mimetype": "text/x-python",
   "name": "python",
   "nbconvert_exporter": "python",
   "pygments_lexer": "ipython3",
   "version": "3.11.11"
  }
 },
 "nbformat": 4,
 "nbformat_minor": 5
}
