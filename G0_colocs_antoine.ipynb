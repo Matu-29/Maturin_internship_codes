{
 "cells": [
  {
   "cell_type": "markdown",
   "id": "92209127-03c2-4ab1-ab1f-9e1f12dae9e9",
   "metadata": {},
   "source": [
    "# ${\\textbf{G0: From Antoine GROUAZEL's meta SWOT-S1 coloc files to co-located files available in DATARMOR:}}$\n",
    "# ${\\textbf{Generation of df\\_coloc dataframe}}$  "
   ]
  },
  {
   "cell_type": "markdown",
   "id": "f9d740b2-42a7-4a68-8227-f81a1924c2e8",
   "metadata": {},
   "source": [
    "In this notebook, we go over the SWOT-Sentinel1 coloc meta files developed by Antoine GROUAZEL, which can be found here:  \n",
    "coloc_nc_files_doy_i = glob.glob(f\"/home/datawork-cersat-public/project/mpc-sentinel1/analysis/s1_data_analysis/coloc/swot_s1/meta_coloc/v3/IW/{year}/{month}/{day}/*\")\n",
    "We then check if the IW file labelled as co-located with a SWOT track has already been processed in L2 level, so one can extract its $H_s$ and other wave parameters.  \n",
    "This information is summarised in a pandas dataframe, entitled df_coloc, and saved as \"df_colocs_swot_S1.csv\" for further use. "
   ]
  },
  {
   "cell_type": "code",
   "execution_count": 1,
   "id": "9eb6592b-cd92-4525-b81b-be675ab76030",
   "metadata": {},
   "outputs": [],
   "source": [
    "import xarray as xr\n",
    "import shapefile as shp \n",
    "import numpy as np\n",
    "import matplotlib.pyplot as plt\n",
    "import pandas as pd\n",
    "from shapely.geometry import box\n",
    "from shapely.wkt import loads\n",
    "import scipy \n",
    "\n",
    "import glob\n",
    "from tqdm import tqdm\n",
    "import pandas as pd"
   ]
  },
  {
   "cell_type": "code",
   "execution_count": 2,
   "id": "1d80a397-2b4d-469a-8132-d095fa38ff29",
   "metadata": {},
   "outputs": [],
   "source": [
    "sar_file_root = r\"/home/datawork-cersat-public/cache/project/sarwave/data/products/experiments/slc/iw/l2\"\n",
    "swot_root = r\"/home/datawork-WW3/PROJECT/SWOT/WindWave\"\n",
    "coloc_root = r\"/home/datawork-cersat-public/project/mpc-sentinel1/analysis/s1_data_analysis/coloc/swot_s1/meta_coloc/v3/IW\""
   ]
  },
  {
   "cell_type": "code",
   "execution_count": 3,
   "id": "4083626f-3a0b-434e-abbd-1c419ae0f39d",
   "metadata": {},
   "outputs": [
    {
     "name": "stdout",
     "output_type": "stream",
     "text": [
      "Month: 05, Day: 09\n"
     ]
    }
   ],
   "source": [
    "from datetime import datetime, timedelta\n",
    "\n",
    "def day_of_year_to_month_day(day_of_year, year):\n",
    "    date = datetime(year, 1, 1) + timedelta(days=day_of_year - 1)\n",
    "    month = date.strftime(\"%m\")\n",
    "    day = date.strftime(\"%d\")\n",
    "    return month, day\n",
    "\n",
    "# Example usage\n",
    "month, day = day_of_year_to_month_day(129, 2025)\n",
    "print(f\"Month: {month}, Day: {day}\")"
   ]
  },
  {
   "cell_type": "markdown",
   "id": "ac620fb6-3b19-4aac-aa52-a7b09860f0bd",
   "metadata": {},
   "source": [
    "# Joining colocation with already processed IW files (outputs csv file with everything)"
   ]
  },
  {
   "cell_type": "code",
   "execution_count": 4,
   "id": "aee016da-eb09-4355-ab87-60c26c3df793",
   "metadata": {},
   "outputs": [
    {
     "name": "stderr",
     "output_type": "stream",
     "text": [
      "100%|██████████| 309/309 [01:12<00:00,  4.25it/s]\n",
      "100%|██████████| 112/112 [01:03<00:00,  1.77it/s]\n",
      "100%|██████████| 2/2 [00:01<00:00,  1.31it/s]\n"
     ]
    }
   ],
   "source": [
    "df_coloc = pd.DataFrame({\"year\": [],\n",
    "                         \"day_of_year\": [],\n",
    "                         \"swot_file\": [],\n",
    "                         \"iw_file\": []})\n",
    "\n",
    "df_swot_file = pd.DataFrame({\"swot_file\":[]})\n",
    "\n",
    "years = [2023,2024,2025]\n",
    "for year in years:\n",
    "    year = int(year)\n",
    "    \n",
    "    SAR_day_folders = glob.glob(f\"/home/datawork-cersat-public/cache/project/sarwave/data/products/experiments/slc/iw/l2/{year}/*\") #  contient: [/home/.../iw/l2/year/DOY for les DOY qui sont processed] - e.g. 001? 129 pour 2025\n",
    "    for day_folder in tqdm(SAR_day_folders): # /home/datawork-cersat-public/cache/project/sarwave/data/products/experiments/slc/iw/l2/2025/129'  (*/001, */129 en 2025 )\n",
    "        day_of_year = int(day_folder[-3:])\n",
    "\n",
    "        #print(\"\\n Year:\", year)\n",
    "        #print(\"Day of year:\", day_of_year)\n",
    "        #print(\"\\n\")\n",
    "        \n",
    "        #SAFE_processed_folders_doy_i = glob.glob(f\"{day_folder}/*\") # y a tous les SAFE du day_of_year i PROCESSÉS \n",
    "        # WAV__2SDV signigie que ce sont des produits de niveau 2; E12 = Un 3-digit pour spécifier quel modèle a été utilisé pour générer ce produit (ça pourrait être autre chose, genre D49, et correspondre à une autre configuration)\n",
    "\n",
    "        month, day = day_of_year_to_month_day(day_of_year, year)\n",
    "        # Anciennes colocs d'Antoine\n",
    "        coloc_nc_files_doy_i = glob.glob(f\"/home/datawork-cersat-public/project/mpc-sentinel1/analysis/s1_data_analysis/coloc/swot_s1/meta_coloc/v3/IW/{year}/{month}/{day}/*\")\n",
    "        # Nouvelles colocs d'Antoine\n",
    "        #coloc_nc_files_doy_i = glob.glob(f\"/home/datawork-cersat-public/project/mpc-sentinel1/analysis/s1_data_analysis/coloc/swot_s1/seastate_coloc/v1/IW/{year}/{month}/{day}/*\")\n",
    "        \n",
    "\n",
    "        for coloc_nc_file in coloc_nc_files_doy_i:\n",
    "            ds_coloc = xr.open_dataset(coloc_nc_file)\n",
    "            swot_l3_snippet = ds_coloc.filepath_swot.values # e.g. 'SWOT_L3_LR_SSH_Expert_026_249_20250101T165939_20250101T175106_v2.0.1.nc'\n",
    "            #print(swot_l3_snippet)\n",
    "            try:\n",
    "                cycle = int(swot_l3_snippet[0][22:25]) # e.g. 026\n",
    "                track = int(swot_l3_snippet[0][26:29]) # e.g. 249\n",
    "                #print(\"cycle\", cycle)\n",
    "                #print(\"track\", track)\n",
    "                \n",
    "                SWOT_l2_filepath = glob.glob(f'/home/datawork-WW3/PROJECT/SWOT/WindWave/*{cycle:03d}_{track:03d}_*.nc')[0] # e.g. '/home/datawork-WW3/PROJECT/SWOT/WindWave/SWOT_L2_LR_SSH_WindWave_026_249_20250101T165939_20250101T175024_PIC2_01.nc'\n",
    "                df_swot_file = pd.concat((df_swot_file, pd.DataFrame({\"swot_file\":[SWOT_l2_filepath]})))\n",
    "                #print(SWOT_l2_filepath)\n",
    "            except IndexError:\n",
    "                continue\n",
    "            \n",
    "            SAFE_coloc_folders =  ds_coloc.sar_safe_name.values\n",
    "\n",
    "            for SAFE_coloc_folder in SAFE_coloc_folders:\n",
    "                #print(\"SAFE_coloc_folder:\", SAFE_coloc_folder)\n",
    "                \n",
    "                snippet = SAFE_coloc_folder[13:67] # e.g. 'SDV_20250101T172524_20250101T172554_057253_070B02_AAF7'\n",
    "                #print(\"snippet:\", snippet)\n",
    "                #print(glob.glob(f\"{day_folder}/*\"))\n",
    "                matched_IW_paths = glob.glob(f\"{day_folder}/*{snippet}*.SAFE/*\")\n",
    "                #print(\"matched_IW_paths:\", matched_IW_paths)\n",
    "                if len(matched_IW_paths) == 3: # ça signifie que les 3 IW ont déjà été processées\n",
    "                    \n",
    "                    df_coloc_row_i = pd.DataFrame({\"year\": [year, year, year],\n",
    "                                                   \"day_of_year\": [day_of_year, day_of_year, day_of_year],\n",
    "                                                   \"swot_file\": [SWOT_l2_filepath, SWOT_l2_filepath, SWOT_l2_filepath],\n",
    "                                                   \"iw_file\": matched_IW_paths})\n",
    "        \n",
    "                    df_coloc = pd.concat((df_coloc, df_coloc_row_i))           \n",
    "                    \n",
    "                else: \n",
    "                    df_coloc_row_i = pd.DataFrame({\"year\": [year, year, year],\n",
    "                                                   \"day_of_year\": [day_of_year, day_of_year, day_of_year],\n",
    "                                                   \"swot_file\": [SWOT_l2_filepath, SWOT_l2_filepath, SWOT_l2_filepath],\n",
    "                                                   \"iw_file\": [np.nan, np.nan, np.nan]})\n",
    "        \n",
    "                    df_coloc = pd.concat((df_coloc, df_coloc_row_i))  "
   ]
  },
  {
   "cell_type": "code",
   "execution_count": 5,
   "id": "54ee1223-14bb-465b-b5e7-3d35028ff387",
   "metadata": {},
   "outputs": [],
   "source": [
    "df_coloc.to_csv(\"G_df/df_colocs_swot_S1.csv\")"
   ]
  },
  {
   "cell_type": "code",
   "execution_count": 13,
   "id": "deaa8f41-9031-49e6-a9b6-b0e3d728d866",
   "metadata": {},
   "outputs": [
    {
     "data": {
      "text/plain": [
       "(1058,)"
      ]
     },
     "execution_count": 13,
     "metadata": {},
     "output_type": "execute_result"
    }
   ],
   "source": [
    "np.unique(df_swot_file[\"swot_file\"]).shape"
   ]
  },
  {
   "cell_type": "code",
   "execution_count": 28,
   "id": "93974212-c9f8-42d8-8632-b30c9ed6ffc8",
   "metadata": {},
   "outputs": [
    {
     "name": "stdout",
     "output_type": "stream",
     "text": [
      "26\n",
      "249\n",
      "SWOT_L3_LR_SSH_Expert_026_249_20250101T165939_20250101T175106_v2.0.1.nc\n"
     ]
    }
   ],
   "source": [
    "swot_track = ds_coloc.filepath_swot.values[0]\n",
    "swot_track[:21]\n",
    "cycle = int(swot_track[22:25])\n",
    "track = int(swot_track[26:29])\n",
    "print(cycle)\n",
    "print(track)\n",
    "print(swot_track)"
   ]
  },
  {
   "cell_type": "code",
   "execution_count": 29,
   "id": "70069a8c-0652-4dfb-8399-0e7e1d227b91",
   "metadata": {},
   "outputs": [
    {
     "data": {
      "text/plain": [
       "'/home/datawork-WW3/PROJECT/SWOT/WindWave/SWOT_L2_LR_SSH_WindWave_026_249_20250101T165939_20250101T175024_PIC2_01.nc'"
      ]
     },
     "execution_count": 29,
     "metadata": {},
     "output_type": "execute_result"
    }
   ],
   "source": [
    "import glob as glob\n",
    "root_windwave = \"/home/datawork-WW3/PROJECT/SWOT/WindWave\"\n",
    "#cycle=026; track=488\n",
    "glob.glob(f'{root_windwave}/*{cycle:03d}_{track:03d}_*.nc')[0]"
   ]
  }
 ],
 "metadata": {
  "kernelspec": {
   "display_name": "env_matu",
   "language": "python",
   "name": "env_matu"
  },
  "language_info": {
   "codemirror_mode": {
    "name": "ipython",
    "version": 3
   },
   "file_extension": ".py",
   "mimetype": "text/x-python",
   "name": "python",
   "nbconvert_exporter": "python",
   "pygments_lexer": "ipython3",
   "version": "3.11.11"
  }
 },
 "nbformat": 4,
 "nbformat_minor": 5
}
